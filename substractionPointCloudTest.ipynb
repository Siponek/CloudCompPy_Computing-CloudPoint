{
 "cells": [
  {
   "cell_type": "code",
   "execution_count": 1,
   "metadata": {},
   "outputs": [
    {
     "name": "stdout",
     "output_type": "stream",
     "text": [
      "Main : Libs loaded\n"
     ]
    }
   ],
   "source": [
    "import os\n",
    "import sys\n",
    "import math\n",
    "import psutil\n",
    "os.environ[\"_CCTRACE_\"]=\"ON\"\n",
    "import cloudComPy as cc\n",
    "from gendata import getSampleCloud, dataDir\n",
    "import numpy as np\n",
    "import matplotlib\n",
    "import matplotlib.pyplot as plt\n",
    "from matplotlib import colors\n",
    "import laspy\n",
    "print(\"Main : Libs loaded\")"
   ]
  },
  {
   "cell_type": "code",
   "execution_count": 2,
   "metadata": {},
   "outputs": [
    {
     "data": {
      "text/plain": [
       "' Plan with Emanuele:\\n        1       Read the point cloud with Laspy\\n        2       Convert the point cloud to a cloudComPy format (A text file with three float numbers per line)\\n        3       Read the file with cloudComPy\\n        4       Create a mesh from the point cloud / repeat for the second point cloud\\n        5       Make a boolean INTERSECTION operation of the two meshes\\n        5.1     Calculate the Hausdorff distance between the two meshes (using cloudComPy) (Maybe use distance function form cloudComPy)\\n        6       Visualize the difference between the two meshes as one mesh\\n        7       Convert the mesh to a verticies only\\n        8       Convert the verticies to a point cloud and save it as a file\\n\\n    Problem:\\n        1       The Hausdorff distance is not working properly. (it might not give the output that we desire)\\n        2       The information to which point-cloud does a point(Verticies) belong to is lost.\\n        2.1     It is possible to compare XYZ of a point from the difference Mesh of two point-clouds to points of the said clouds.\\n        2.2     But it about 70_000 points per cloud right now so that gives a lot of overhead.\\n        2.3     Need to find a solution for \"height\" of the difference mesh.\\n\\n'"
      ]
     },
     "execution_count": 2,
     "metadata": {},
     "output_type": "execute_result"
    }
   ],
   "source": [
    "# TODO Load the data (using laspy -> cloudComPy)\n",
    "# TODO optional convert into pandas dataframe (pandas limit to 100mb?)\n",
    "# TODO Test functions:\n",
    "# - getPointCloud\n",
    "# - getSphere\n",
    "# \n",
    "# TODO Slice the data\n",
    "# TODO Subtract the data, need to ease the surface with gaussian fucntion, search the net for examples\n",
    "# TODO Visualize the data\n",
    "\"\"\" Current plan:\n",
    "        - I cannot see what the functions from cloudComPy are doing(No peek definition), there is only documentation on webstite with no exapmles of functions alone.\n",
    "                There are test cases, however they are not commented or documented on how they are achieving the results.\n",
    "                And for now I don't see clear solution there on how to obtain the difference between two point clouds\n",
    "        - I am creating my own point-clouds for the tests, I need to know how to create them (The libary accepts data in very specific way).\n",
    "                I have made tests for reading the data from a file, but neither .las nor .LiData files are supported in a native way\n",
    "                    Solution to that is to use additional libary called \"laspy\" which is a wrapper for las file format.(And then the data is in diffrent format than the normal data from cloudCompPy)\n",
    "                Reason being that I need small sets of data and visualize them to see if the algorythms work.\n",
    "                I want to see how it is visiualized and how it is subtracted on e.g. two point-cloud spheres. (I want to see if the difference is correct)\n",
    "                If it works on small dataset it will also work on larger dataset.\n",
    "                I cannot use the whole dataset with the mountain because it is too big.( No clear indication of the difference will be visible at this point in time.)\n",
    "        - It requires theory/heavy algebra to understand how the algorythms work. Octree, Hausdorff distance, scalar fields etc.\n",
    "                Even if these functions are present in libary the data must be prepared accordingly to use them. Even more so if I will use my own point cloud data.\n",
    "        - Steps:\n",
    "            1 Create a point-cloud spheres with the data\n",
    "            2 Make a mesh/field form cloud-points(?) (The best way would be to calculate the the distance on the point-cloud and then use the distances to create scalar field, it would give the colours to the diffrenece)\n",
    "            3 Use the Hausdorff distance algo to calculate the difference between the two spheres\n",
    "            4 If it returns the point-cloud with the difference, then it is done.\n",
    "            5 Apply to a big dataset\n",
    "        - I might be missing something from the documentation that could do the job much faster, but I am not an expert on point-clouds.\n",
    "        - Any suggestions/remarks are welcome\n",
    "        \n",
    "\"\"\"\n",
    "\"\"\" Plan with Emanuele:\n",
    "        1       Read the point cloud with Laspy\n",
    "        2       Convert the point cloud to a cloudComPy format (A text file with three float numbers per line)\n",
    "        3       Read the file with cloudComPy\n",
    "        4       Create a mesh from the point cloud / repeat for the second point cloud\n",
    "        5       Make a boolean INTERSECTION operation of the two meshes\n",
    "        5.1     Calculate the Hausdorff distance between the two meshes (using cloudComPy) (Maybe use distance function form cloudComPy)\n",
    "        6       Visualize the difference between the two meshes as one mesh\n",
    "        7       Convert the mesh to a verticies only\n",
    "        8       Convert the verticies to a point cloud and save it as a file\n",
    "\n",
    "    Problem:\n",
    "        1       The Hausdorff distance is not working properly. (it might not give the output that we desire)\n",
    "        2       The information to which point-cloud does a point(Verticies) belong to is lost.\n",
    "        2.1     It is possible to compare XYZ of a point from the difference Mesh of two point-clouds to points of the said clouds.\n",
    "        2.2     But it about 70_000 points per cloud right now so that gives a lot of overhead.\n",
    "        2.3     Need to find a solution for \"height\" of the difference mesh.\n",
    "\n",
    "\"\"\""
   ]
  },
  {
   "cell_type": "code",
   "execution_count": 3,
   "metadata": {},
   "outputs": [],
   "source": [
    "path1 = r\"C:\\\\Users\\\\szinp\\\\Desktop\\\\lazorScan_project\\\\testData\\\\cloud_e4d00e9_CutResult_17_7_42.LiData\"\n",
    "path2 = r\"C:\\\\Users\\\\szinp\\\\Desktop\\\\lazorScan_project\\\\testData\\\\cloud_e4d00e9_CutResult_17_14_7.las\"\n",
    "path3 = r\"C:\\\\Users\\\\szinp\\\\Desktop\\\\lazorScan_project\\\\testData\\\\cloud_e4d00e9_CutResult_17_14_7.LiData\"\n",
    "path4 = r\"C:\\\\Users\\\\szinp\\\\Desktop\\\\lazorScan_project\\\\testData\\\\laser_1_2021-06-01-09-54-35_color_CutResult_17_14_7.las\"\n",
    "path5 = r\"C:\\\\Users\\\\szinp\\\\Desktop\\\\lazorScan_project\\\\testData\\\\laser_1_2021-06-01-09-54-35_color_CutResult_17_14_7.LiData\"\n",
    "assert os.path.isfile(path1)\n",
    "assert os.path.isfile(path2)\n",
    "assert os.path.isfile(path3)\n",
    "assert os.path.isfile(path4)\n",
    "assert os.path.isfile(path5)\n",
    "# with open(file=path, mode=\"r\") as cloudFile:\n",
    "#     print(\"Main : File opened\")"
   ]
  },
  {
   "cell_type": "code",
   "execution_count": 4,
   "metadata": {},
   "outputs": [],
   "source": [
    "#* os.environ[\"_CCTRACE_\"]=\"ON\"                                           # only if you want debug traces from C++\n",
    "\n",
    "#* import cloudComPy as cc                                                # import the CloudComPy module\n",
    "\n",
    "#* cloud = cc.loadPointCloud(\"myCloud.xyz\")                               # read a point cloud from a file\n",
    "#* print(\"cloud name: %s\"%cloud.getName())\n",
    "\n",
    "#* res=cc.computeCurvature(cc.CurvatureType.GAUSSIAN_CURV, 0.05, [cloud]) # compute curvature as a scalar field\n",
    "#* nsf = cloud.getNumberOfScalarFields()\n",
    "#* sfCurv=cloud.getScalarField(nsf-1)\n",
    "#* cloud.setCurrentOutScalarField(nsf-1)\n",
    "#* filteredCloud=cc.filterBySFValue(0.01, sfCurv.getMax(), cloud)         # keep only the points above a given curvature\n",
    "\n",
    "#* ok = filteredCloud.exportCoordToSF(False, False, True)                 # Z coordinate as a scalar Field\n",
    "#* nsf = cloud.getNumberOfScalarFields()\n",
    "#* sf1=filteredCloud.getScalarField(nsf-1)\n",
    "#* mean, var = sf1.computeMeanAndVariance()\n",
    "\n",
    "#* # using Numpy...\n",
    "\n",
    "#* coordinates = filteredCloud.toNpArrayCopy()                            # coordinates as a numpy array\n",
    "#* x=coordinates[:,0]                                                     # x column\n",
    "#* y=coordinates[:,1]\n",
    "#* z=coordinates[:,2]\n",
    "\n",
    "#* f=(2*x-y)*(x+3*y)                                                      # elementwise operation on arrays\n",
    "\n",
    "#* asf1=sf1.toNpArray()                                                   # scalar field as a numpy array\n",
    "#* sf1.fromNpArrayCopy(f)                                                 # replace scalar field values by a numpy array\n",
    "\n",
    "#* res=cc.SavePointCloud(filteredCloud,\"myModifiedCloud.bin\")             #save the point cloud to a file"
   ]
  },
  {
   "cell_type": "markdown",
   "metadata": {},
   "source": [
    "### Reading the first .LAS file\n",
    "[]: # Language: python\n",
    "[]: # Path: substractionPointCloudTest.ipynb"
   ]
  },
  {
   "cell_type": "code",
   "execution_count": 5,
   "metadata": {},
   "outputs": [
    {
     "name": "stdout",
     "output_type": "stream",
     "text": [
      "Cloud loaded\n",
      "cloud name:<LasHeader(1.4, <PointFormat(7, 0 bytes of extra dims)>)>\n"
     ]
    },
    {
     "ename": "KeyboardInterrupt",
     "evalue": "",
     "output_type": "error",
     "traceback": [
      "\u001b[1;31m---------------------------------------------------------------------------\u001b[0m",
      "\u001b[1;31mKeyboardInterrupt\u001b[0m                         Traceback (most recent call last)",
      "\u001b[1;32m~\\AppData\\Local\\Temp\\ipykernel_7452\\785526891.py\u001b[0m in \u001b[0;36m<cell line: 10>\u001b[1;34m()\u001b[0m\n\u001b[0;32m     35\u001b[0m         \u001b[1;31m# print( \"listCoord_XYZ.shape\", listCoord_XYZ.shape)\u001b[0m\u001b[1;33m\u001b[0m\u001b[1;33m\u001b[0m\u001b[0m\n\u001b[0;32m     36\u001b[0m \u001b[1;33m\u001b[0m\u001b[0m\n\u001b[1;32m---> 37\u001b[1;33m         \u001b[0mlistCoord_XYZ\u001b[0m \u001b[1;33m=\u001b[0m \u001b[0mnp\u001b[0m\u001b[1;33m.\u001b[0m\u001b[0mappend\u001b[0m\u001b[1;33m(\u001b[0m\u001b[0marr\u001b[0m \u001b[1;33m=\u001b[0m \u001b[0mlistCoord_XYZ\u001b[0m\u001b[1;33m,\u001b[0m \u001b[0mvalues\u001b[0m\u001b[1;33m=\u001b[0m \u001b[0mvaluesToAppend\u001b[0m \u001b[1;33m,\u001b[0m \u001b[0maxis\u001b[0m\u001b[1;33m=\u001b[0m\u001b[1;36m0\u001b[0m\u001b[1;33m)\u001b[0m\u001b[1;33m\u001b[0m\u001b[1;33m\u001b[0m\u001b[0m\n\u001b[0m\u001b[0;32m     38\u001b[0m \u001b[1;33m\u001b[0m\u001b[0m\n\u001b[0;32m     39\u001b[0m \u001b[1;33m\u001b[0m\u001b[0m\n",
      "\u001b[1;32mc:\\Users\\szinp\\anaconda3\\envs\\CloudComPy39\\lib\\site-packages\\numpy\\core\\overrides.py\u001b[0m in \u001b[0;36mappend\u001b[1;34m(*args, **kwargs)\u001b[0m\n",
      "\u001b[1;32mc:\\Users\\szinp\\anaconda3\\envs\\CloudComPy39\\lib\\site-packages\\numpy\\lib\\function_base.py\u001b[0m in \u001b[0;36mappend\u001b[1;34m(arr, values, axis)\u001b[0m\n\u001b[0;32m   5390\u001b[0m         \u001b[0mvalues\u001b[0m \u001b[1;33m=\u001b[0m \u001b[0mravel\u001b[0m\u001b[1;33m(\u001b[0m\u001b[0mvalues\u001b[0m\u001b[1;33m)\u001b[0m\u001b[1;33m\u001b[0m\u001b[1;33m\u001b[0m\u001b[0m\n\u001b[0;32m   5391\u001b[0m         \u001b[0maxis\u001b[0m \u001b[1;33m=\u001b[0m \u001b[0marr\u001b[0m\u001b[1;33m.\u001b[0m\u001b[0mndim\u001b[0m\u001b[1;33m-\u001b[0m\u001b[1;36m1\u001b[0m\u001b[1;33m\u001b[0m\u001b[1;33m\u001b[0m\u001b[0m\n\u001b[1;32m-> 5392\u001b[1;33m     \u001b[1;32mreturn\u001b[0m \u001b[0mconcatenate\u001b[0m\u001b[1;33m(\u001b[0m\u001b[1;33m(\u001b[0m\u001b[0marr\u001b[0m\u001b[1;33m,\u001b[0m \u001b[0mvalues\u001b[0m\u001b[1;33m)\u001b[0m\u001b[1;33m,\u001b[0m \u001b[0maxis\u001b[0m\u001b[1;33m=\u001b[0m\u001b[0maxis\u001b[0m\u001b[1;33m)\u001b[0m\u001b[1;33m\u001b[0m\u001b[1;33m\u001b[0m\u001b[0m\n\u001b[0m\u001b[0;32m   5393\u001b[0m \u001b[1;33m\u001b[0m\u001b[0m\n\u001b[0;32m   5394\u001b[0m \u001b[1;33m\u001b[0m\u001b[0m\n",
      "\u001b[1;32mc:\\Users\\szinp\\anaconda3\\envs\\CloudComPy39\\lib\\site-packages\\numpy\\core\\overrides.py\u001b[0m in \u001b[0;36mconcatenate\u001b[1;34m(*args, **kwargs)\u001b[0m\n",
      "\u001b[1;31mKeyboardInterrupt\u001b[0m: "
     ]
    }
   ],
   "source": [
    "# Using path2 as input (This is .las data file)\n",
    "cc.initCC()\n",
    "\n",
    "# listCoord_XYZ = np.array([], ndmin = 2)\n",
    "listCoord_XYZ = np.empty([1,3])\n",
    "x:float = 0.0\n",
    "y:float = 0.0\n",
    "z:float = 0.0\n",
    "#! remark - path 2 has a lot of points, so it takes a while to read it (76_568_359 to be exact).\n",
    "with laspy.open(source = path2) as cloudFileHeader:\n",
    "    if type(cloudFileHeader) != None:\n",
    "        cloudFile = laspy.read(source=path2)\n",
    "        try:\n",
    "            print(\"Cloud loaded\")\n",
    "            print(f\"cloud name:{cloudFile.header}\")\n",
    "        except:\n",
    "            print(f\"cloud name:<unknown>\")\n",
    "    # limit = 0\n",
    "    #? It seems that chunk_iterator helps to read data in batches. In every batch it reads the data and then it moves to the next batch.\n",
    "    #? Points.array is in fact a one point array. if we set chunk_iterator is set to (1)\n",
    "    #? What is the data inside of the point? It must be x,y,z and something else. It is possible to extract x,y,z from the point. Is it enough data?\n",
    "    for points in cloudFileHeader.chunk_iterator(1):\n",
    "        # print(\"type(points)\\n\", type(points))\n",
    "        # print(\"points _>\\n\", points)\n",
    "        # print(\"points array _>\\n\", points.array)\n",
    "        # print(\"type(points.array[0]) _>\\n\", type(points.array[0]))\n",
    "        # print(\"points.array[0] _>\\n\", points.array[0])\n",
    "        # print(\"points.array[0]['X'] _>\\n\", points.array[0]['X'])\n",
    "\n",
    "        # print(\"points.dtype\\n\", points.dtype)\n",
    "        # print(\"points.dtype.names\\n\", points.dtype.names)\n",
    "        x,y,z = points.array[0]['X'], points.array[0]['Y'], points.array[0]['Z']\n",
    "        valuesToAppend = np.array([[x,y,z]])\n",
    "        # print(\"(valuesToAppend).shape\",(valuesToAppend).shape)\n",
    "        # print( \"listCoord_XYZ.shape\", listCoord_XYZ.shape)\n",
    "\n",
    "        listCoord_XYZ = np.append(arr = listCoord_XYZ, values= valuesToAppend , axis=0)\n",
    "        \n",
    "\n",
    "        # if limit == 10:\n",
    "        #     break\n",
    "        # limit += 1\n",
    "    print(\"listCoord_XYZ\\n\", listCoord_XYZ)"
   ]
  },
  {
   "cell_type": "markdown",
   "metadata": {},
   "source": [
    "### Saving the first result in a .txt file for compatibility with CloudComPy\n",
    "[]: # Language: python\n",
    "[]: # Path: substractionPointCloudTest.ipynb"
   ]
  },
  {
   "cell_type": "code",
   "execution_count": null,
   "metadata": {},
   "outputs": [],
   "source": [
    "np.savetxt(\"listCoord_XYZ_1.txt\", listCoord_XYZ, delimiter=\" \", newline=\"\\n\")"
   ]
  },
  {
   "cell_type": "markdown",
   "metadata": {},
   "source": [
    "### Reading the second .LAS file \n",
    "[]: # Language: python\n",
    "[]: # Path: substractionPointCloudTest.ipynb"
   ]
  },
  {
   "cell_type": "code",
   "execution_count": null,
   "metadata": {},
   "outputs": [],
   "source": [
    "listCoord_XYZ = np.empty([1,3])\n",
    "x:float = 0.0\n",
    "y:float = 0.0\n",
    "z:float = 0.0\n",
    "with laspy.open(source = path4) as cloudFileHeader:\n",
    "    if type(cloudFileHeader) != None:\n",
    "        cloudFile = laspy.read(source=path4)\n",
    "        try:\n",
    "            print(\"Cloud loaded\")\n",
    "            print(f\"cloud name:{cloudFile.header}\")\n",
    "        except:\n",
    "            print(f\"cloud name:<unknown>\")\n",
    "    # limit = 0\n",
    "    #? It seems that chunk_iterator helps to read data in batches. In every batch it reads the data and then it moves to the next batch.\n",
    "    #? Points.array is in fact a one point array. if we set chunk_iterator is set to (1)\n",
    "    #? What is the data inside of the point? It must be x,y,z and something else. It is possible to extract x,y,z from the point. Is it enough data?\n",
    "    for points in cloudFileHeader.chunk_iterator(1):\n",
    "        # print(\"type(points)\\n\", type(points))\n",
    "        # print(\"points _>\\n\", points)\n",
    "        # print(\"points array _>\\n\", points.array)\n",
    "        # print(\"type(points.array[0]) _>\\n\", type(points.array[0]))\n",
    "        # print(\"points.array[0] _>\\n\", points.array[0])\n",
    "        # print(\"points.array[0]['X'] _>\\n\", points.array[0]['X'])\n",
    "\n",
    "        # print(\"points.dtype\\n\", points.dtype)\n",
    "        # print(\"points.dtype.names\\n\", points.dtype.names)\n",
    "        x,y,z = points.array[0]['X'], points.array[0]['Y'], points.array[0]['Z']\n",
    "        valuesToAppend = np.array([[x,y,z]])\n",
    "        # print(\"(valuesToAppend).shape\",(valuesToAppend).shape)\n",
    "        # print( \"listCoord_XYZ.shape\", listCoord_XYZ.shape)\n",
    "\n",
    "        listCoord_XYZ = np.append(arr = listCoord_XYZ, values= valuesToAppend , axis=0)\n",
    "        \n",
    "\n",
    "        # if limit == 10:\n",
    "        #     break\n",
    "        # limit += 1\n",
    "    print(\"listCoord_XYZ\\n\", listCoord_XYZ)"
   ]
  },
  {
   "cell_type": "markdown",
   "metadata": {},
   "source": [
    "### Saving the second result in a .txt file for compatibility with CloudComPy\n",
    "[]: # Language: python\n",
    "[]: # Path: substractionPointCloudTest.ipynb"
   ]
  },
  {
   "cell_type": "code",
   "execution_count": null,
   "metadata": {},
   "outputs": [],
   "source": [
    "np.savetxt(\"listCoord_XYZ_2.txt\", listCoord_XYZ, delimiter=\" \", newline=\"\\n\")"
   ]
  },
  {
   "cell_type": "markdown",
   "metadata": {},
   "source": [
    "#### TODO: Make a progress bar for computing"
   ]
  },
  {
   "cell_type": "code",
   "execution_count": null,
   "metadata": {},
   "outputs": [],
   "source": [
    "import time\n",
    "import progressbar\n",
    "\n",
    "widgets = [' [',\n",
    "\t\tprogressbar.Timer(format= 'elapsed time: %(elapsed)s'),\n",
    "\t\t'] ',\n",
    "\t\tprogressbar.Bar('*'),' (',\n",
    "\t\tprogressbar.ETA(), ') ',\n",
    "\t\t]\n",
    "\n",
    "bar = progressbar.ProgressBar(max_value=200,\n",
    "\t\t\t\t\t\t\twidgets=widgets).start()\n",
    "\n",
    "for i in range(200):\n",
    "\ttime.sleep(0.1)\n",
    "\tbar.update(i)\n"
   ]
  }
 ],
 "metadata": {
  "kernelspec": {
   "display_name": "Python 3.9.7 ('CloudComPy39')",
   "language": "python",
   "name": "python3"
  },
  "language_info": {
   "codemirror_mode": {
    "name": "ipython",
    "version": 3
   },
   "file_extension": ".py",
   "mimetype": "text/x-python",
   "name": "python",
   "nbconvert_exporter": "python",
   "pygments_lexer": "ipython3",
   "version": "3.9.7"
  },
  "orig_nbformat": 4,
  "vscode": {
   "interpreter": {
    "hash": "b6edfd18c23f1977573ae167478fba97ce460a232ec94f55e6f77f6fa0ebec54"
   }
  }
 },
 "nbformat": 4,
 "nbformat_minor": 2
}
