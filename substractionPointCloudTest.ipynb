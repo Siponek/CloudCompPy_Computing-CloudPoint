{
 "cells": [
  {
   "cell_type": "code",
   "execution_count": 1,
   "metadata": {},
   "outputs": [
    {
     "name": "stdout",
     "output_type": "stream",
     "text": [
      "Main : Libs loaded\n"
     ]
    }
   ],
   "source": [
    "import os\n",
    "import sys\n",
    "import math\n",
    "import psutil\n",
    "os.environ[\"_CCTRACE_\"]=\"ON\"\n",
    "import cloudComPy as cc\n",
    "from gendata import getSampleCloud, dataDir\n",
    "import numpy as np\n",
    "import matplotlib\n",
    "import matplotlib.pyplot as plt\n",
    "from matplotlib import colors\n",
    "import laspy\n",
    "print(\"Main : Libs loaded\")"
   ]
  },
  {
   "cell_type": "code",
   "execution_count": 2,
   "metadata": {},
   "outputs": [],
   "source": [
    "# TODO Load the data (using laspy -> cloudComPy)\n",
    "# TODO optional convert into pandas dataframe (pandas limit to 100mb?)\n",
    "# TODO Test functions:\n",
    "# - getPointCloud\n",
    "# - getSphere\n",
    "# \n",
    "# TODO Slice the data\n",
    "# TODO Subtract the data, need to ease the surface with gaussian fucntion, search the net for examples\n",
    "# TODO Visualize the data"
   ]
  },
  {
   "cell_type": "code",
   "execution_count": 3,
   "metadata": {},
   "outputs": [],
   "source": [
    "path1 = r\"C:\\\\Users\\\\szinp\\\\Desktop\\\\lazorScan_project\\\\testData\\\\cloud_e4d00e9_CutResult_17_7_42.LiData\"\n",
    "path2 = r\"C:\\\\Users\\\\szinp\\\\Desktop\\\\lazorScan_project\\\\testData\\\\cloud_e4d00e9_CutResult_17_14_7.las\"\n",
    "path3 = r\"C:\\\\Users\\\\szinp\\\\Desktop\\\\lazorScan_project\\\\testData\\\\cloud_e4d00e9_CutResult_17_14_7.LiData\"\n",
    "path4 = r\"C:\\\\Users\\\\szinp\\\\Desktop\\\\lazorScan_project\\\\testData\\\\laser_1_2021-06-01-09-54-35_color_CutResult_17_14_7.las\"\n",
    "path5 = r\"C:\\\\Users\\\\szinp\\\\Desktop\\\\lazorScan_project\\\\testData\\\\laser_1_2021-06-01-09-54-35_color_CutResult_17_14_7.LiData\"\n",
    "assert os.path.isfile(path1)\n",
    "assert os.path.isfile(path2)\n",
    "assert os.path.isfile(path3)\n",
    "assert os.path.isfile(path4)\n",
    "assert os.path.isfile(path5)\n",
    "# with open(file=path, mode=\"r\") as cloudFile:\n",
    "#     print(\"Main : File opened\")"
   ]
  },
  {
   "cell_type": "code",
   "execution_count": 4,
   "metadata": {},
   "outputs": [],
   "source": [
    "#* os.environ[\"_CCTRACE_\"]=\"ON\"                                           # only if you want debug traces from C++\n",
    "\n",
    "#* import cloudComPy as cc                                                # import the CloudComPy module\n",
    "\n",
    "#* cloud = cc.loadPointCloud(\"myCloud.xyz\")                               # read a point cloud from a file\n",
    "#* print(\"cloud name: %s\"%cloud.getName())\n",
    "\n",
    "#* res=cc.computeCurvature(cc.CurvatureType.GAUSSIAN_CURV, 0.05, [cloud]) # compute curvature as a scalar field\n",
    "#* nsf = cloud.getNumberOfScalarFields()\n",
    "#* sfCurv=cloud.getScalarField(nsf-1)\n",
    "#* cloud.setCurrentOutScalarField(nsf-1)\n",
    "#* filteredCloud=cc.filterBySFValue(0.01, sfCurv.getMax(), cloud)         # keep only the points above a given curvature\n",
    "\n",
    "#* ok = filteredCloud.exportCoordToSF(False, False, True)                 # Z coordinate as a scalar Field\n",
    "#* nsf = cloud.getNumberOfScalarFields()\n",
    "#* sf1=filteredCloud.getScalarField(nsf-1)\n",
    "#* mean, var = sf1.computeMeanAndVariance()\n",
    "\n",
    "#* # using Numpy...\n",
    "\n",
    "#* coordinates = filteredCloud.toNpArrayCopy()                            # coordinates as a numpy array\n",
    "#* x=coordinates[:,0]                                                     # x column\n",
    "#* y=coordinates[:,1]\n",
    "#* z=coordinates[:,2]\n",
    "\n",
    "#* f=(2*x-y)*(x+3*y)                                                      # elementwise operation on arrays\n",
    "\n",
    "#* asf1=sf1.toNpArray()                                                   # scalar field as a numpy array\n",
    "#* sf1.fromNpArrayCopy(f)                                                 # replace scalar field values by a numpy array\n",
    "\n",
    "#* res=cc.SavePointCloud(filteredCloud,\"myModifiedCloud.bin\")             #save the point cloud to a file"
   ]
  },
  {
   "cell_type": "code",
   "execution_count": 6,
   "metadata": {},
   "outputs": [
    {
     "name": "stdout",
     "output_type": "stream",
     "text": [
      "cloud name:<LasHeader(1.4, <PointFormat(7, 0 bytes of extra dims)>)>\n"
     ]
    }
   ],
   "source": [
    "# Using path2 as input (This is .las data file)\n",
    "cc.initCC()\n",
    "with open(path2, \"rb\") as cloudFileHeader:\n",
    "    if type(cloudFileHeader) != None:\n",
    "        cloudFile = laspy.read(cloudFileHeader)\n",
    "        try:\n",
    "            print(\"Cloud loaded\")\n",
    "            print(f\"cloud name:{cloudFile.header}\")\n",
    "        except:\n",
    "            print(f\"cloud name:<unknown>\")"
   ]
  },
  {
   "cell_type": "code",
   "execution_count": null,
   "metadata": {},
   "outputs": [],
   "source": []
  }
 ],
 "metadata": {
  "kernelspec": {
   "display_name": "Python 3.9.7 ('CloudComPy39')",
   "language": "python",
   "name": "python3"
  },
  "language_info": {
   "codemirror_mode": {
    "name": "ipython",
    "version": 3
   },
   "file_extension": ".py",
   "mimetype": "text/x-python",
   "name": "python",
   "nbconvert_exporter": "python",
   "pygments_lexer": "ipython3",
   "version": "3.9.7"
  },
  "orig_nbformat": 4,
  "vscode": {
   "interpreter": {
    "hash": "b6edfd18c23f1977573ae167478fba97ce460a232ec94f55e6f77f6fa0ebec54"
   }
  }
 },
 "nbformat": 4,
 "nbformat_minor": 2
}
