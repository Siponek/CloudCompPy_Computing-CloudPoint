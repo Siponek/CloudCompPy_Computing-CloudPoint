{
 "cells": [
  {
   "cell_type": "markdown",
   "metadata": {},
   "source": [
    "### Loading libs"
   ]
  },
  {
   "cell_type": "code",
   "execution_count": null,
   "metadata": {},
   "outputs": [],
   "source": [
    "### Testing simple mesh substraction\n",
    "\n",
    "import os\n",
    "import sys\n",
    "import math\n",
    "os.environ[\"_CCTRACE_\"]=\"ON\"\n",
    "import gendata as gen\n",
    "import numpy as np\n",
    "import matplotlib\n",
    "import matplotlib.pyplot as plt\n",
    "from matplotlib import colors\n",
    "import laspy\n",
    "import cloudComPy as cc \n",
    "import psutil\n",
    "\n",
    "print(\"Libs loaded\")"
   ]
  },
  {
   "cell_type": "markdown",
   "metadata": {},
   "source": [
    "### Initialising cloud"
   ]
  },
  {
   "cell_type": "code",
   "execution_count": null,
   "metadata": {},
   "outputs": [],
   "source": [
    "# os.environ[\"_CCTRACE_\"]=\"ON\"                                           # only if you want debug traces from C++\n",
    "\n",
    "cc.initCC()\n",
    "gen.createSymbolicLinks() # required for tests on build, before cc.initCC.init\n",
    "\n",
    "cloud = cc.loadPointCloud(gen.getSamplePoly2(polyname=\"WhatTheHeck\"))"
   ]
  },
  {
   "cell_type": "markdown",
   "metadata": {},
   "source": [
    "### Creating primitives"
   ]
  },
  {
   "cell_type": "code",
   "execution_count": null,
   "metadata": {},
   "outputs": [],
   "source": [
    "# ccGLMatrix() is a transformation matrix?\n",
    "tr1 = cc.ccGLMatrix()\n",
    "tr1.initFromParameters(0.1, 0.2, 0.3, (8.0, 0.0, 0.0))\n",
    "box = cc.ccBox((1., 2., 3.), tr1, \"aBox\")\n",
    "if box.getName() != 'aBox':\n",
    "    raise RuntimeError\n",
    "if box.size() != 12:\n",
    "    raise RuntimeError\n",
    "\n",
    "tr5 = cc.ccGLMatrix()\n",
    "tr5.initFromParameters(0.0, (0., 0., 0.), (-7.0, 5.0, 1.0))\n",
    "sphere = cc.ccSphere(1.5, tr5, \"aSphere\", 72)\n",
    "if sphere.getName() != 'aSphere':\n",
    "    raise RuntimeError\n",
    "if sphere.size() != 10224:\n",
    "    raise RuntimeError"
   ]
  },
  {
   "cell_type": "markdown",
   "metadata": {},
   "source": [
    "### Computing approximate Cloud distance to mesh\n",
    "[]: # Language: python\n",
    "[]: # Path: testingFunctions.ipynb"
   ]
  },
  {
   "cell_type": "code",
   "execution_count": null,
   "metadata": {},
   "outputs": [],
   "source": [
    "# stats = cc.DistanceComputationTools.computeApproxCloud2MeshDistance(cloud, sphere)\n",
    "# print(stats) # min, max, mean, variance, error max\n",
    "# nbCpu = psutil.cpu_count()\n",
    "# bestOctreeLevel = cc.DistanceComputationTools.determineBestOctreeLevel(cloud,box)\n",
    "# params = cc.Cloud2MeshDistancesComputationParams()\n",
    "# params.maxThreadCount = nbCpu\n",
    "# params.octreeLevel = bestOctreeLevel\n",
    "# cc.DistanceComputationTools.computeCloud2MeshDistances(cloud, box, params)\n",
    "# bestOctreeLevel = cc.DistanceComputationTools.determineBestOctreeLevel(box.getAssociatedCloud(), sphere)\n",
    "# params.octreeLevel = bestOctreeLevel\n",
    "# cc.DistanceComputationTools.computeCloud2MeshDistances(sphere.getAssociatedCloud(), sphere, params)"
   ]
  },
  {
   "cell_type": "code",
   "execution_count": null,
   "metadata": {},
   "outputs": [],
   "source": [
    "cc.SaveEntities([cloud, box, sphere,], os.path.join(\"\", \"entities2.bin\"))"
   ]
  }
 ],
 "metadata": {
  "kernelspec": {
   "display_name": "Python 3.9.7 ('CloudComPy39')",
   "language": "python",
   "name": "python3"
  },
  "language_info": {
   "codemirror_mode": {
    "name": "ipython",
    "version": 3
   },
   "file_extension": ".py",
   "mimetype": "text/x-python",
   "name": "python",
   "nbconvert_exporter": "python",
   "pygments_lexer": "ipython3",
   "version": "3.9.7"
  },
  "orig_nbformat": 4,
  "vscode": {
   "interpreter": {
    "hash": "b6edfd18c23f1977573ae167478fba97ce460a232ec94f55e6f77f6fa0ebec54"
   }
  }
 },
 "nbformat": 4,
 "nbformat_minor": 2
}
