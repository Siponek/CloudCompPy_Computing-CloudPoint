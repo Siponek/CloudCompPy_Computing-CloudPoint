{
 "cells": [
  {
   "cell_type": "markdown",
   "metadata": {},
   "source": [
    "### Loading libs"
   ]
  },
  {
   "cell_type": "code",
   "execution_count": 1,
   "metadata": {},
   "outputs": [
    {
     "name": "stdout",
     "output_type": "stream",
     "text": [
      "Libs loaded\n"
     ]
    }
   ],
   "source": [
    "### Testing simple mesh substraction\n",
    "\n",
    "import os\n",
    "import sys\n",
    "import math\n",
    "import gendata as gen\n",
    "import numpy as np\n",
    "import matplotlib\n",
    "import matplotlib.pyplot as plt\n",
    "from matplotlib import colors\n",
    "import laspy\n",
    "import cloudComPy as cc \n",
    "import psutil\n",
    "from scipy import stats\n",
    "\n",
    "print(\"Libs loaded\")"
   ]
  },
  {
   "cell_type": "markdown",
   "metadata": {},
   "source": [
    "### Functions"
   ]
  },
  {
   "cell_type": "code",
   "execution_count": 2,
   "metadata": {},
   "outputs": [],
   "source": [
    "def giveSpherePath(x:float = 0, y:float = 0, z:float = 0 , r:float = 10, num:int = 100, dx:float = 0.1, h:float = 5):\n",
    "    \"\"\"give_sphere Create a sphere point cloud\n",
    "    Parameters\"\"\"\n",
    "    dataDir = os.path.join(os.environ[\"USERPROFILE\"], \"CloudComPy/data\")\n",
    "    print(\"dataDir: \", dataDir)\n",
    "    if not os.path.exists(dataDir):\n",
    "        os.makedirs(dataDir)\n",
    "    # points = []\n",
    "    # for i in range(0, num):\n",
    "    #     factor = stats.norm.pdf((np.arange(-5, 5, 0.001)), 0, 1)\n",
    "    #     # factor = normedgauss()        # A value between 0 and 1 following a gaussian\n",
    "    #     ir = r * factor\n",
    "    #     itheta = np.arccos(np.random.uniform(-1, 1))\n",
    "    #     iphi = np.random.uniform(0, 2 * np.pi)\n",
    "    #     ix = x + ir * np.sin(itheta) * np.cos(iphi)\n",
    "    #     iy = y + ir * np.sin(itheta) * np.sin(iphi)\n",
    "    #     iz = z + ir * np.cos(itheta)\n",
    "    #     points.append((ix, iy, iz))\n",
    "\n",
    "    dataName = \"dataSample_%s.xyz\" % h\n",
    "    if dx != 0:\n",
    "        dataName = \"dataSample_%s_%s.xyz\" % (h,dx)\n",
    "    sample = os.path.join(dataDir, dataName)\n",
    "    vx = np.array([])\n",
    "    vy = np.array([])\n",
    "    if not os.path.exists(sample):\n",
    "        print(\"Generating data: start X and Y!\")\n",
    "        for i in range(0, num):\n",
    "            factor = stats.norm.pdf((np.arange(-5, 5, 0.001)), 0, 1)\n",
    "            ir = r * factor\n",
    "            itheta = np.arccos(np.random.uniform(-1, 1))\n",
    "            iphi = np.random.uniform(0, 2 * np.pi)\n",
    "            vx = np.append(arr = vx, values =  x + ir * np.sin(itheta) * np.cos(iphi))\n",
    "            vy = np.append(arr = vy, values = y + ir * np.sin(itheta) * np.sin(iphi))\n",
    "        print(\"Generating data: X and Y done!\")\n",
    "\n",
    "        with open(sample, 'w') as f:\n",
    "            for xCoord in vx:\n",
    "                for yCoord in vy:\n",
    "                    zCoord = math.sin(h * math.sqrt(xCoord**2 + yCoord**2)) / math.sqrt(xCoord**2 + yCoord**2)\n",
    "                    f.write(\"%f %f %f\\n\" % (xCoord, yCoord, zCoord))\n",
    "                print(\"Generating data: Z done!\")\n",
    "    return sample"
   ]
  },
  {
   "cell_type": "markdown",
   "metadata": {},
   "source": [
    "### Initialising cloud"
   ]
  },
  {
   "cell_type": "code",
   "execution_count": null,
   "metadata": {},
   "outputs": [],
   "source": []
  },
  {
   "cell_type": "code",
   "execution_count": 3,
   "metadata": {},
   "outputs": [
    {
     "name": "stdout",
     "output_type": "stream",
     "text": [
      "dataDir:  C:\\Users\\szinp\\CloudComPy/data\n"
     ]
    }
   ],
   "source": [
    "# os.environ[\"_CCTRACE_\"]=\"ON\"                                           # only if you want debug traces from C++\n",
    "\n",
    "gen.createSymbolicLinks() # required for tests on build, before cc.initCC.init\n",
    "cc.initCC()\n",
    "\n",
    "cloud = cc.loadPointCloud(gen.getSampleCloud2(step=0.1,dx=0.5))\n",
    "# cloud = cc.loadPointCloud(giveSpherePath(num=5))"
   ]
  },
  {
   "cell_type": "markdown",
   "metadata": {},
   "source": [
    "### Creating primitives"
   ]
  },
  {
   "cell_type": "code",
   "execution_count": 4,
   "metadata": {},
   "outputs": [],
   "source": [
    "# ccGLMatrix() is a transformation matrix?\n",
    "tr1 = cc.ccGLMatrix()\n",
    "tr1.initFromParameters(0.1, 0.2, 0.3, (8.0, 0.0, 0.0))\n",
    "box = cc.ccBox((1., 2., 3.), tr1, \"aBox\")\n",
    "if box.getName() != 'aBox':\n",
    "    raise RuntimeError\n",
    "if box.size() != 12:\n",
    "    raise RuntimeError\n",
    "\n",
    "tr5 = cc.ccGLMatrix()\n",
    "tr5.initFromParameters(0.0, (0., 0., 0.), (-7.0, 5.0, 1.0))\n",
    "sphere = cc.ccSphere(1.5, tr5, \"aSphere\", 72)\n",
    "if sphere.getName() != 'aSphere':\n",
    "    raise RuntimeError\n",
    "if sphere.size() != 10224:\n",
    "    raise RuntimeError"
   ]
  },
  {
   "cell_type": "markdown",
   "metadata": {},
   "source": [
    "### Computing approximate Cloud distance to mesh\n",
    "[]: # Language: python\n",
    "[]: # Path: testingFunctions.ipynb"
   ]
  },
  {
   "cell_type": "code",
   "execution_count": 5,
   "metadata": {},
   "outputs": [
    {
     "name": "stdout",
     "output_type": "stream",
     "text": [
      "[5.562787055969238, 9.822517395019531, 7.639709949493408, 0.4474430978298187, 0.030983304604887962]\n"
     ]
    },
    {
     "data": {
      "text/plain": [
       "1"
      ]
     },
     "execution_count": 5,
     "metadata": {},
     "output_type": "execute_result"
    }
   ],
   "source": [
    "stats = cc.DistanceComputationTools.computeApproxCloud2MeshDistance(cloud, sphere)\n",
    "print(stats) # min, max, mean, variance, error max\n",
    "nbCpu = psutil.cpu_count()\n",
    "bestOctreeLevel = cc.DistanceComputationTools.determineBestOctreeLevel(cloud,box)\n",
    "params = cc.Cloud2MeshDistancesComputationParams()\n",
    "params.maxThreadCount = nbCpu\n",
    "params.octreeLevel = bestOctreeLevel\n",
    "cc.DistanceComputationTools.computeCloud2MeshDistances(cloud, box, params)\n",
    "bestOctreeLevel = cc.DistanceComputationTools.determineBestOctreeLevel(box.getAssociatedCloud(), sphere)\n",
    "params.octreeLevel = bestOctreeLevel\n",
    "cc.DistanceComputationTools.computeCloud2MeshDistances(sphere.getAssociatedCloud(), sphere, params)"
   ]
  },
  {
   "cell_type": "code",
   "execution_count": 6,
   "metadata": {},
   "outputs": [
    {
     "data": {
      "text/plain": [
       "_cloudComPy.CC_FILE_ERROR.CC_FERR_NO_ERROR"
      ]
     },
     "execution_count": 6,
     "metadata": {},
     "output_type": "execute_result"
    }
   ],
   "source": [
    "cc.SaveEntities([cloud, box, sphere], os.path.join(\"\", \"entities2.bin\"))"
   ]
  }
 ],
 "metadata": {
  "kernelspec": {
   "display_name": "Python 3.9.7 ('CloudComPy39')",
   "language": "python",
   "name": "python3"
  },
  "language_info": {
   "codemirror_mode": {
    "name": "ipython",
    "version": 3
   },
   "file_extension": ".py",
   "mimetype": "text/x-python",
   "name": "python",
   "nbconvert_exporter": "python",
   "pygments_lexer": "ipython3",
   "version": "3.9.7"
  },
  "orig_nbformat": 4,
  "vscode": {
   "interpreter": {
    "hash": "b6edfd18c23f1977573ae167478fba97ce460a232ec94f55e6f77f6fa0ebec54"
   }
  }
 },
 "nbformat": 4,
 "nbformat_minor": 2
}
