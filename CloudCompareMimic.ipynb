{
 "cells": [
  {
   "cell_type": "markdown",
   "metadata": {},
   "source": [
    "### Load the dependencies\n"
   ]
  },
  {
   "cell_type": "code",
   "execution_count": 1,
   "metadata": {},
   "outputs": [
    {
     "name": "stdout",
     "output_type": "stream",
     "text": [
      "Main : Libs loaded\n"
     ]
    }
   ],
   "source": [
    "import os\n",
    "import sys\n",
    "import math\n",
    "import psutil\n",
    "os.environ[\"_CCTRACE_\"]=\"ON\"\n",
    "import cloudComPy as cc\n",
    "from gendata import getSampleCloud, dataDir\n",
    "import numpy as np\n",
    "import matplotlib.pyplot as plt\n",
    "from matplotlib import colors\n",
    "import laspy\n",
    "import tqdm\n",
    "from time import sleep\n",
    "from pathlib import Path\n",
    "import multiprocessing\n",
    "print(\"Main : Libs loaded\")"
   ]
  },
  {
   "cell_type": "markdown",
   "metadata": {},
   "source": [
    "#### Functions"
   ]
  },
  {
   "cell_type": "code",
   "execution_count": 2,
   "metadata": {},
   "outputs": [],
   "source": [
    "def convertLasTxt(pathToFile : str, nameOfFileOutput : str = \"myCloud.txt\") -> list:\n",
    "    \"\"\"convertLasTxt Converts .las file to .txt file for reading with cloudComPy.\n",
    "    Note: it uses tqdm to show the progress of the conversion.\n",
    "\n",
    "    Parameters\n",
    "    ----------\n",
    "    pathToFile : str\n",
    "        _description_\n",
    "    \"\"\"\n",
    "    listCoord_XYZ = np.empty([1,3])\n",
    "    tmpList = []\n",
    "    x:float = 0.0\n",
    "    y:float = 0.0\n",
    "    z:float = 0.0\n",
    "    #! remark - path 2 has a lot of points, so it takes a while to read it (76_568_359 to be exact).\n",
    "    with tqdm.tqdm(total=Path(pathToFile).stat().st_size) as pbar:\n",
    "        with laspy.open(source = pathToFile) as cloudFileHeader:\n",
    "            if type(cloudFileHeader) != None:\n",
    "                cloudFile = laspy.read(source=path2)\n",
    "                try:\n",
    "                    print(\"Cloud loaded\")\n",
    "                    print(f\"cloud name:{cloudFile.header}\")\n",
    "                except:\n",
    "                    print(f\"cloud name:<unknown>\")\n",
    "                    \n",
    "            #? It seems that chunk_iterator helps to read data in batches. In every batch it reads the data and then it moves to the next batch.\n",
    "            #? Points.array is in fact a one point array. if we set chunk_iterator to (1)\n",
    "            #? What is the data inside of the point? It must be x,y,z and something else. It is possible to extract x,y,z from the point. Is it enough data?\n",
    "            for points in cloudFileHeader.chunk_iterator(1):\n",
    "                x,y,z = points.array[0]['X'], points.array[0]['Y'], points.array[0]['Z']\n",
    "                valuesToAppend = np.array([[x,y,z]])\n",
    "                tmpList.append(valuesToAppend)\n",
    "                # listCoord_XYZ = np.concatenate((listCoord_XYZ, valuesToAppend), axis=0)\n",
    "                # np.append(arr = listCoord_XYZ, values= valuesToAppend , axis=0)\n",
    "                pbar.update(n=1)\n",
    "            listCoord_XYZ = np.array(tmpList) \n",
    "            pbar.close()\n",
    "            np.savetxt(nameOfFileOutput, listCoord_XYZ, delimiter=\" \", newline=\"\\n\")\n",
    "            print(f\"convertLasTxt _> File {nameOfFileOutput} saved\")\n",
    "    print(\"convertLasTxt _> Conversion finished\")\n",
    "    return listCoord_XYZ\n",
    "\n",
    "def giveSpherePath(x:float = 0, y:float = 0, z:float = 0 , r:float = 10, num:int = 100, dx:float = 0.1, h:float = 5):\n",
    "    \"\"\"give_sphere Create a sphere point cloud\n",
    "    Parameters\"\"\"\n",
    "    dataDir = os.path.join(os.environ[\"USERPROFILE\"], \"CloudComPy/data\")\n",
    "    print(\"dataDir: \", dataDir)\n",
    "    if not os.path.exists(dataDir):\n",
    "        os.makedirs(dataDir)\n",
    "    # points = []\n",
    "    # for i in range(0, num):\n",
    "    #     factor = stats.norm.pdf((np.arange(-5, 5, 0.001)), 0, 1)\n",
    "    #     # factor = normedgauss()        # A value between 0 and 1 following a gaussian\n",
    "    #     ir = r * factor\n",
    "    #     itheta = np.arccos(np.random.uniform(-1, 1))\n",
    "    #     iphi = np.random.uniform(0, 2 * np.pi)\n",
    "    #     ix = x + ir * np.sin(itheta) * np.cos(iphi)\n",
    "    #     iy = y + ir * np.sin(itheta) * np.sin(iphi)\n",
    "    #     iz = z + ir * np.cos(itheta)\n",
    "    #     points.append((ix, iy, iz))\n",
    "\n",
    "    dataName = \"dataSample_%s.xyz\" % h\n",
    "    if dx != 0:\n",
    "        dataName = \"dataSample_%s_%s.xyz\" % (h,dx)\n",
    "    sample = os.path.join(dataDir, dataName)\n",
    "    vx = np.array([])\n",
    "    vy = np.array([])\n",
    "    if not os.path.exists(sample):\n",
    "        print(\"Generating data: start X and Y!\")\n",
    "        for i in range(0, num):\n",
    "            factor = stats.norm.pdf((np.arange(-5, 5, 0.001)), 0, 1)\n",
    "            ir = r * factor\n",
    "            itheta = np.arccos(np.random.uniform(-1, 1))\n",
    "            iphi = np.random.uniform(0, 2 * np.pi)\n",
    "            vx = np.append(arr = vx, values =  x + ir * np.sin(itheta) * np.cos(iphi))\n",
    "            vy = np.append(arr = vy, values = y + ir * np.sin(itheta) * np.sin(iphi))\n",
    "        print(\"Generating data: X and Y done!\")\n",
    "\n",
    "        with open(sample, 'w') as f:\n",
    "            for xCoord in vx:\n",
    "                for yCoord in vy:\n",
    "                    zCoord = math.sin(h * math.sqrt(xCoord**2 + yCoord**2)) / math.sqrt(xCoord**2 + yCoord**2)\n",
    "                    f.write(\"%f %f %f\\n\" % (xCoord, yCoord, zCoord))\n",
    "                print(\"Generating data: Z done!\")\n",
    "    return sample\n",
    "\n",
    "def createShpereFull(number:int, center:list, radius:float, cutTheShape : bool = True) -> list:\n",
    "    \"\"\"createShpereFull It generates sphere point cloud (and points inside the volume) with a given center and radius.\n",
    "\n",
    "    Parameters\n",
    "    ----------\n",
    "    number : int\n",
    "        _description_\n",
    "    center : list\n",
    "        _description_\n",
    "    radius : float\n",
    "        _description_\n",
    "    cutTheShape : bool, optional\n",
    "        _description_, by default True\n",
    "\n",
    "    Returns\n",
    "    -------\n",
    "    list\n",
    "        _description_\n",
    "    \"\"\"\n",
    "    # generate the random quantities\n",
    "    phi         = np.random.uniform( 0, 2*np.pi, size=(number,))\n",
    "    theta_cos   = np.random.uniform(-1,       1, size=(number,))\n",
    "    u           = np.random.uniform( 0,       1, size=(number,))\n",
    "\n",
    "    # calculate sin(theta) from cos(theta)\n",
    "    theta_sin   = np.sqrt(1 - theta_cos**2)\n",
    "    r           = radius * np.cbrt(u)\n",
    "\n",
    "    # use list comprehension to generate the coordinate array without a loop\n",
    "    # don't forget to offset by the atom's position (center)\n",
    "    return np.array([\n",
    "        np.array([\n",
    "            center[0] + r[i] * theta_sin[i] * np.cos(phi[i]),\n",
    "            center[1] + r[i] * theta_sin[i] * np.sin(phi[i]),\n",
    "            center[2] + r[i] * theta_cos[i]\n",
    "        ]) for i in range(number)\n",
    "    ])\n",
    "\n",
    "def createSpherePoints(radius:float = 5, number:int=10,  center:list = [0,0,0], cutTheShape : str = \"None\", leftTreshold : float = 1, rightTreshold : float = 1) -> list:\n",
    "    \"\"\"createSpherePoints It generates sphere point cloud without any points in the volume with a given center and radius.\n",
    "\n",
    "    Parameters\n",
    "    ----------\n",
    "    radius : float, optional\n",
    "        _description_, by default 5\n",
    "    number : int, optional\n",
    "        _description_, by default 10\n",
    "    center : list, optional\n",
    "        _description_, by default [0,0,0]\n",
    "    cutTheShape : str, optional\n",
    "        _description_, Cut the shape of the sphere according to GLOBAL coordinates.\n",
    "    leftTreshold : float, optional\n",
    "        _description_, by default 1\n",
    "    rightTreshold : float, optional\n",
    "        _description_, by default 1\n",
    "\n",
    "    Returns\n",
    "    -------\n",
    "    list\n",
    "        _description_\n",
    "    \"\"\"\n",
    "    pi = math.pi\n",
    "    sin = math.sin\n",
    "    cos = math.cos\n",
    "    lst = []\n",
    "    for phi in [(pi*i)/(number-1) for i in range(number)]:\n",
    "        M = int(sin(phi)*(number-1))+1\n",
    "        for theta in [(2*pi*i)/M for i in range(M)]:\n",
    "            x = center[0] + radius * sin(phi) * cos(theta)\n",
    "            y = center[1] + radius * sin(phi) * sin(theta)\n",
    "            z = center[2] + radius * cos(phi)\n",
    "            if (cutTheShape == \"left\" and z<=leftTreshold):\n",
    "                continue\n",
    "\n",
    "            elif (cutTheShape == \"right\" and z>=rightTreshold):\n",
    "                continue\n",
    "\n",
    "            else:\n",
    "                lst.append((x, y, z))\n",
    "\n",
    "    return np.array(lst)\n",
    "    # return np.array([\n",
    "    #     np.array([\n",
    "    #         center[0] + radius   * sin(phi) * cos(theta),\n",
    "    #         center[1] + radius   * sin(phi) * sin(theta),\n",
    "    #         center[2] + radius   * cos(phi)\n",
    "    #     ]) for i in range(number)\n",
    "    # ])\n",
    "\n"
   ]
  },
  {
   "cell_type": "markdown",
   "metadata": {},
   "source": [
    "### Create testing geometry/data/PointCloud"
   ]
  },
  {
   "cell_type": "code",
   "execution_count": 3,
   "metadata": {},
   "outputs": [
    {
     "name": "stdout",
     "output_type": "stream",
     "text": [
      "(6575, 3)\n",
      "[[ 0.00000000e+00  0.00000000e+00  4.00000000e+00]\n",
      " [ 7.61552204e-02  0.00000000e+00  3.99927498e+00]\n",
      " [ 4.66316235e-18  7.61552204e-02  3.99927498e+00]\n",
      " ...\n",
      " [ 3.84177214e+00 -4.54703697e-01  1.01687334e+00]\n",
      " [ 3.85666185e+00 -3.03525871e-01  1.01687334e+00]\n",
      " [ 3.86560488e+00 -1.51880029e-01  1.01687334e+00]]\n",
      "(13738, 3)\n",
      "[[ 5.64377478e+00  0.00000000e+00  4.96338362e+00]\n",
      " [ 5.64182458e+00  1.48354804e-01  4.96338362e+00]\n",
      " [ 5.63597534e+00  2.96607081e-01  4.96338362e+00]\n",
      " ...\n",
      " [-7.42089580e-02  9.08797629e-18  1.00045893e+00]\n",
      " [-1.36319644e-17 -7.42089580e-02  1.00045893e+00]\n",
      " [ 7.34788079e-16  0.00000000e+00  1.00000000e+00]]\n"
     ]
    }
   ],
   "source": [
    "sphereCoords1 = createSpherePoints(number=166, center=[0,0,0], radius=4, cutTheShape=\"left\", leftTreshold = 1)\n",
    "sphereCoords2 = createSpherePoints(number=255, center=[0,0,7], radius=6, cutTheShape=\"right\", rightTreshold =5)\n",
    "print(sphereCoords1.shape)\n",
    "print(sphereCoords1)\n",
    "print(sphereCoords2.shape)\n",
    "print(sphereCoords2)\n",
    "np.savetxt(\"testSphere_1.txt\", sphereCoords1, delimiter=\" \", newline=\"\\n\")\n",
    "np.savetxt(\"testSphere_2.txt\", sphereCoords2, delimiter=\" \", newline=\"\\n\")"
   ]
  },
  {
   "cell_type": "markdown",
   "metadata": {},
   "source": [
    "### Paths to files/ meshes/ pointClouds"
   ]
  },
  {
   "cell_type": "markdown",
   "metadata": {},
   "source": [
    "##### TODO - add a functionality to lead from CLI"
   ]
  },
  {
   "cell_type": "code",
   "execution_count": 4,
   "metadata": {},
   "outputs": [
    {
     "name": "stdout",
     "output_type": "stream",
     "text": [
      "Paths are correct\n"
     ]
    }
   ],
   "source": [
    "# path1 = r\"C:\\Users\\szinp\\Desktop\\CloudComPy39_20220513\\CloudCompPy_Computing-CloudPoint\\testSphere_1.txt\"\n",
    "# path2 = r\"C:\\Users\\szinp\\Desktop\\CloudComPy39_20220513\\CloudCompPy_Computing-CloudPoint\\testSphere_2.txt\"\n",
    "path1 = r\"C:\\Users\\szinp\\Desktop\\lazorScan_project\\testData\\myCloud_1.txt\"\n",
    "path2 = r\"C:\\Users\\szinp\\Desktop\\lazorScan_project\\testData\\myCloud_2.txt\"\n",
    "\n",
    "assert os.path.isfile(path1)\n",
    "assert os.path.isfile(path2)\n",
    "print(\"Paths are correct\")"
   ]
  },
  {
   "cell_type": "markdown",
   "metadata": {},
   "source": [
    "## Load the data into CloudComPy module"
   ]
  },
  {
   "cell_type": "code",
   "execution_count": 5,
   "metadata": {},
   "outputs": [],
   "source": [
    "# gen.createSymbolicLinks() # required for tests on build, before cc.initCC.init\n",
    "cc.initCC()\n",
    "#TODO find a way to load a las file into this cloudComPy module natevly\n",
    "#! Working with real data\n",
    "cloud1 = cc.loadPointCloud(path1)\n",
    "cloud2 = cc.loadPointCloud(path2)\n",
    "#! Getting test clouds\n",
    "# cloud1 = cc.loadPointCloud(getSampleCloud(1.0))\n",
    "# cloud2 = cc.loadPointCloud(getSampleCloud(2.0))\n",
    "\n",
    "cloud1.setName(\"cloud1\")\n",
    "cloud2.setName(\"cloud2\")"
   ]
  },
  {
   "cell_type": "markdown",
   "metadata": {},
   "source": [
    "### ICP registration"
   ]
  },
  {
   "cell_type": "code",
   "execution_count": 6,
   "metadata": {},
   "outputs": [],
   "source": [
    "# res=cc.ICP(data=cloud2, model=cloud1,  minRMSDecrease=1.e-5,\n",
    "#            maxIterationCount=40,  randomSamplingLimit=50000, removeFarthestPoints=False, method=cc.CONVERGENCE_TYPE.MAX_ITER_CONVERGENCE, adjustScale=True, finalOverlapRatio=0.1)\n",
    "# res=cc.ICP(data=cloud2, model=cloud1, minRMSDecrease=1.e-5,\n",
    "#             randomSamplingLimit=50000,maxIterationCount=5000, removeFarthestPoints=False, method=cc.CONVERGENCE_TYPE.MAX_ITER_CONVERGENCE, adjustScale=True, finalOverlapRatio=1, maxThreadCount = 0)\n",
    "res=cc.ICP(data=cloud2, model=cloud1, minRMSDecrease=1.e-5,\n",
    "            randomSamplingLimit=50000,maxIterationCount=40, removeFarthestPoints=False, method=cc.CONVERGENCE_TYPE.MAX_ERROR_CONVERGENCE, adjustScale=False, finalOverlapRatio=0.90, maxThreadCount = 0)\n",
    "tr2 = res.transMat\n",
    "cloud2ICP = res.aligned\n",
    "cloud2ICP.applyRigidTransformation(tr2)\n",
    "cloud2ICP.setName(\"cloud2_transformed_afterICP\")\n",
    "# ICP(class ccHObject * __ptr64 data, class ccHObject * __ptr64 model, double minRMSDecrease, unsigned int maxIterationCount, unsigned int randomSamplingLimit, bool removeFarthestPoints, enum CCCoreLib::ICPRegistrationTools::CONVERGENCE_TYPE method, bool adjustScale, double finalOverlapRatio=1.0, bool useDataSFAsWeights=False, bool useModelSFAsWeights=False, int transformationFilters=_cloudComPy.TRANSFORMATION_FILTERS.SKIP_NONE, int maxThreadCount=0)"
   ]
  },
  {
   "cell_type": "markdown",
   "metadata": {},
   "source": [
    "### Calculating Octree for the point cloud and distances"
   ]
  },
  {
   "cell_type": "code",
   "execution_count": 7,
   "metadata": {},
   "outputs": [],
   "source": [
    "\n",
    "# #? Octree does not show up in the CloudComapre software - might be a reason why M3C2 is not working correctly \n",
    "# nbCpu = psutil.cpu_count()\n",
    "# bestOctreeLevel = cc.DistanceComputationTools.determineBestOctreeLevel(cloud1, None, cloud2ICP)\n"
   ]
  },
  {
   "cell_type": "code",
   "execution_count": 8,
   "metadata": {},
   "outputs": [],
   "source": [
    "# params = cc.Cloud2CloudDistancesComputationParams()\n",
    "# params.maxThreadCount = nbCpu\n",
    "# params.octreeLevel = bestOctreeLevel\n",
    "# cc.DistanceComputationTools.computeCloud2CloudDistances(cloud1, cloud2ICP, params)"
   ]
  },
  {
   "cell_type": "markdown",
   "metadata": {},
   "source": [
    "### Using M3C2 script to calculate the differences between the two clouds"
   ]
  },
  {
   "cell_type": "markdown",
   "metadata": {},
   "source": [
    "#### Creating parameters for M3C2 script"
   ]
  },
  {
   "cell_type": "code",
   "execution_count": 9,
   "metadata": {},
   "outputs": [
    {
     "name": "stdout",
     "output_type": "stream",
     "text": [
      "Writing parameters to c:\\Users\\szinp\\Desktop\\CloudComPy39_20220513\\CloudCompPy_Computing-CloudPoint\\dataFolder\\PythonParameters\\m3c2_params.txt\n"
     ]
    }
   ],
   "source": [
    "#! Reading parameters form ready file for now\n",
    "# m3c2_params_dic={}\n",
    "# m3c2_params_dic[\"ExportDensityAtProjScale\"] = \"false\"\n",
    "# m3c2_params_dic[\"ExportStdDevInfo\"] = \"false\"\n",
    "# m3c2_params_dic[\"M3C2VER\"] = 1\n",
    "# m3c2_params_dic[\"MaxThreadCount\"] = multiprocessing.cpu_count()\n",
    "# m3c2_params_dic[\"MinPoints4Stat\"] = 5\n",
    "# m3c2_params_dic[\"NormalMaxScale\"] = 0.283607\n",
    "# m3c2_params_dic[\"NormalMinScale\"] = 0.070902\n",
    "# m3c2_params_dic[\"NormalMode\"] = 0\n",
    "# m3c2_params_dic[\"NormalPreferedOri\"] = 4\n",
    "# m3c2_params_dic[\"NormalScale\"] = 0.141803\n",
    "# m3c2_params_dic[\"NormalStep\"] = 0.070902\n",
    "# m3c2_params_dic[\"NormalUseCorePoints\"] = \"false\"\n",
    "# m3c2_params_dic[\"PM1Scale\"] = 1\n",
    "# m3c2_params_dic[\"PM2Scale\"] = 1\n",
    "# m3c2_params_dic[\"PositiveSearchOnly\"] = \"false\"\n",
    "# m3c2_params_dic[\"ProjDestIndex\"] = 1\n",
    "# m3c2_params_dic[\"RegistrationError\"] = 0\n",
    "# m3c2_params_dic[\"RegistrationErrorEnabled\"] = \"false\"\n",
    "# m3c2_params_dic[\"SearchDepth\"] = 0.709017\n",
    "# m3c2_params_dic[\"SearchScale\"] = 0.141803\n",
    "# m3c2_params_dic[\"SubsampleEnabled\"] = \"true\"\n",
    "# m3c2_params_dic[\"SubsampleRadius\"] = 0.070902\n",
    "# m3c2_params_dic[\"UseMedian\"] = \"false\"\n",
    "# m3c2_params_dic[\"UseMinPoints4Stat\"] = \"false\"\n",
    "# m3c2_params_dic[\"UseOriginalCloud\"] = \"false\"\n",
    "# m3c2_params_dic[\"UsePrecisionMaps\"] = \"false\"\n",
    "# m3c2_params_dic[\"UseSinglePass4Depth\"] = \"false\"\n",
    "paramFilename =os.path.abspath(\"\") + \"\\dataFolder\\PythonParameters\\m3c2_params.txt\"\n",
    "print(f\"Writing parameters to {paramFilename}\")\n",
    "# with open(paramFilename, 'w') as f:\n",
    "#     f.write(\"[General]\\n\")\n",
    "#     for k,v in m3c2_params_dic.items():\n",
    "#         f.write(\"%s=%s\\n\"%(k,v))"
   ]
  },
  {
   "cell_type": "markdown",
   "metadata": {},
   "source": [
    "### Running M3C2 script"
   ]
  },
  {
   "cell_type": "code",
   "execution_count": 10,
   "metadata": {},
   "outputs": [
    {
     "name": "stdout",
     "output_type": "stream",
     "text": [
      "M3C2 plugin is loaded, attempting to run M3C2\n",
      "M3C2 finished\n",
      "type(CloudAfterM3C2) <class '_cloudComPy.ccPointCloud'>\n",
      "Saving results to c:\\Users\\szinp\\Desktop\\CloudComPy39_20220513\\CloudCompPy_Computing-CloudPoint\\dataFolder\\myCloud_bigTest.bin\n"
     ]
    }
   ],
   "source": [
    "if cc.isPluginM3C2():\n",
    "    import cloudComPy.M3C2\n",
    "    print(\"M3C2 plugin is loaded, attempting to run M3C2\")\n",
    "    CloudAfterM3C2 = cc.M3C2.computeM3C2([cloud1,cloud2ICP], paramFilename)\n",
    "    # CloudAfterM3C2 = cc.M3C2.computeM3C2([cloud2ICP,cloud1], paramFilename)\n",
    "    print(\"M3C2 finished\")\n",
    "    print(\"type(CloudAfterM3C2)\", type(CloudAfterM3C2))\n",
    "    if CloudAfterM3C2 is None:\n",
    "        raise RuntimeError\n",
    "    if CloudAfterM3C2.getNumberOfScalarFields() < 3:\n",
    "        raise RuntimeError\n",
    "    dic= CloudAfterM3C2.getScalarFieldDic()\n",
    "    sf = CloudAfterM3C2.getScalarField(dic['M3C2 distance'])\n",
    "    if sf is None:\n",
    "        raise RuntimeError\n",
    "    # if not math.isclose(sf.getMax(), 0.71, rel_tol=0.01):\n",
    "    #     raise RuntimeError\n",
    "    # if not math.isclose(sf.getMin(), -0.70, rel_tol=0.01):\n",
    "    #     raise RuntimeError\n",
    "    # pathToSaveOutput = os.path.abspath(\"\") + \"\\dataFolder\\M3C2.bin\"\n",
    "    pathToSaveOutput = os.path.abspath(\"\") + r\"\\dataFolder\\myCloud_bigTest.bin\"\n",
    "    print(f\"Saving results to {pathToSaveOutput}\")\n",
    "    cc.SaveEntities([cloud1,cloud2, cloud2ICP, CloudAfterM3C2],pathToSaveOutput)\n",
    "    #TODO Las file saving, see\n",
    "    "
   ]
  },
  {
   "cell_type": "markdown",
   "metadata": {},
   "source": [
    "### Notes\n",
    "```\n",
    "Scipt takes about 57 minutes to execute on two data.txt cutted 3GB each\n",
    "\n",
    "If the model presents some problems:\n",
    "- Check if the path to params file is alright\n",
    "- If you are getting weird white spaces without colors try increasing searchDepth in params file\n",
    "- Resolution can be in m3c2_params.txt file. (Normals)\n",
    "- check the model is not too small (less than 10 points)\n",
    "\n",
    "```"
   ]
  },
  {
   "cell_type": "markdown",
   "metadata": {},
   "source": [
    "TODO:\n",
    "- Add a functionality to lead from CLI\n",
    "- Change the output format (to be able to use with server side app) to .las\n",
    "- Make a report with the results\n",
    "- Build docker environment for the app on server\n",
    "- make ssh key and send it to the server. Public key"
   ]
  },
  {
   "cell_type": "code",
   "execution_count": 11,
   "metadata": {},
   "outputs": [],
   "source": [
    "# if cc.isPluginM3C2():\n",
    "#     import cloudComPy.M3C2\n",
    "#     cloud = cc.loadPointCloud(getSampleCloud(5.0))\n",
    "#     cloud1 = cc.loadPointCloud(getSampleCloud(1.0))\n",
    "#     cloud2 = cc.M3C2.computeM3C2([cloud,cloud1], paramFilename)\n",
    "    \n",
    "#     if cloud2 is None:\n",
    "#         raise RuntimeError\n",
    "#     if cloud2.getNumberOfScalarFields() < 3:\n",
    "#         raise RuntimeError\n",
    "#     dic= cloud2.getScalarFieldDic()\n",
    "#     sf = cloud2.getScalarField(dic['M3C2 distance'])\n",
    "#     if sf is None:\n",
    "#         raise RuntimeError\n",
    "#     if not math.isclose(sf.getMax(), 0.71, rel_tol=0.01):\n",
    "#         raise RuntimeError\n",
    "#     if not math.isclose(sf.getMin(), -0.70, rel_tol=0.01):\n",
    "#         raise RuntimeError\n",
    "#     pathToSaveOutput = os.path.abspath(\"\") + \"\\dataFolder\\M3C2_test.bin\"\n",
    "#     cc.SaveEntities([cloud, cloud1, cloud2],pathToSaveOutput)"
   ]
  }
 ],
 "metadata": {
  "kernelspec": {
   "display_name": "Python 3.9.7 ('CloudComPy39')",
   "language": "python",
   "name": "python3"
  },
  "language_info": {
   "codemirror_mode": {
    "name": "ipython",
    "version": 3
   },
   "file_extension": ".py",
   "mimetype": "text/x-python",
   "name": "python",
   "nbconvert_exporter": "python",
   "pygments_lexer": "ipython3",
   "version": "3.9.7"
  },
  "orig_nbformat": 4,
  "vscode": {
   "interpreter": {
    "hash": "b6edfd18c23f1977573ae167478fba97ce460a232ec94f55e6f77f6fa0ebec54"
   }
  }
 },
 "nbformat": 4,
 "nbformat_minor": 2
}
