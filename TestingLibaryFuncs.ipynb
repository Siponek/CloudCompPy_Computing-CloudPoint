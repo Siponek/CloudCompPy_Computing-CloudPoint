{
 "cells": [
  {
   "cell_type": "markdown",
   "metadata": {},
   "source": [
    "Libs"
   ]
  },
  {
   "cell_type": "code",
   "execution_count": null,
   "metadata": {},
   "outputs": [],
   "source": [
    "from computeclouds import ComputeClouds\n",
    "from datetime import datetime\n",
    "import os"
   ]
  },
  {
   "cell_type": "code",
   "execution_count": null,
   "metadata": {},
   "outputs": [],
   "source": [
    "path_to_file_original_1 = r\"C:\\Users\\szinp\\Desktop\\GIS_PROJECT\\CloudComPy39_20220513\\CloudCompPy_Computing-CloudPoint\\dataFolder\\pythonScripts_testInputs\\1_E_subsample.txt\"\n",
    "path_to_file_original_2 = r\"C:\\Users\\szinp\\Desktop\\GIS_PROJECT\\CloudComPy39_20220513\\CloudCompPy_Computing-CloudPoint\\dataFolder\\pythonScripts_testInputs\\2_E_subsample.txt\"\n",
    "\n",
    "path_to_params_file = r\"C:\\Users\\szinp\\Desktop\\GIS_PROJECT\\CloudComPy39_20220513\\CloudCompPy_Computing-CloudPoint\\dataFolder\\PythonParameters\\m3c2_params.txt\"\n",
    "\n",
    "assert os.path.isfile(path_to_file_original_1), \"File does not exist\"\n",
    "assert os.path.isfile(path_to_file_original_2), \"File does not exist\"\n",
    "assert os.path.isfile(path_to_params_file), \"File does not exist\"\n",
    "print(\"Paths are loaded\", datetime.now() )\n",
    "\n"
   ]
  },
  {
   "cell_type": "markdown",
   "metadata": {},
   "source": [
    "### Parameters to change"
   ]
  },
  {
   "cell_type": "code",
   "execution_count": null,
   "metadata": {},
   "outputs": [],
   "source": [
    "m3c2_params_dic={}\n",
    "\n",
    "m3c2_params_dic[\"M3C2VER\"]= 1\n",
    "m3c2_params_dic[\"NormalMode\"]= 0\n",
    "m3c2_params_dic[\"NormalScale\"]= 10.691401\n",
    "m3c2_params_dic[\"NormalMinScale\"]= 5.3457\n",
    "m3c2_params_dic[\"NormalStep\"]= 5.3457\n",
    "m3c2_params_dic[\"NormalMaxScale\"]= 21.382801\n",
    "m3c2_params_dic[\"SearchScale\"]= 5.3457\n",
    "m3c2_params_dic[\"SearchDepth\"]= 41.898286\n",
    "m3c2_params_dic[\"SubsampleRadius\"]= 2.67285\n",
    "m3c2_params_dic[\"NormalPreferedOri\"]= 4\n",
    "m3c2_params_dic[\"NormalUseCorePoints\"]= \"true\"\n",
    "m3c2_params_dic[\"SubsampleEnabled\"]= \"false\"\n",
    "m3c2_params_dic[\"RegistrationError\"]= 0\n",
    "m3c2_params_dic[\"RegistrationErrorEnabled\"]= \"false\"\n",
    "m3c2_params_dic[\"UseSinglePass4Depth\"]= \"false\"\n",
    "m3c2_params_dic[\"PositiveSearchOnly\"]= \"false\"\n",
    "m3c2_params_dic[\"UseMedian\"]= \"false\"\n",
    "m3c2_params_dic[\"UseMinPoints4Stat\"]= \"false\"\n",
    "m3c2_params_dic[\"MinPoints4Stat\"]= 5\n",
    "m3c2_params_dic[\"ProjDestIndex\"]= 1\n",
    "m3c2_params_dic[\"UseOriginalCloud\"]= \"false\"\n",
    "m3c2_params_dic[\"ExportStdDevInfo\"]= \"true\"\n",
    "m3c2_params_dic[\"ExportDensityAtProjScale\"]= \"true\"\n",
    "m3c2_params_dic[\"MaxThreadCount\"]= 4\n",
    "m3c2_params_dic[\"UsePrecisionMaps\"]= \"false\"\n",
    "m3c2_params_dic[\"PM1Scale\"]= 1\n",
    "m3c2_params_dic[\"PM2Scale\"]= 1"
   ]
  },
  {
   "cell_type": "code",
   "execution_count": null,
   "metadata": {},
   "outputs": [],
   "source": [
    "# print(f\"Writing parameters to {path_to_params_file}\")\n",
    "\n",
    "# with open(path_to_params_file, 'w') as f:\n",
    "#     f.write(\"[General]\\n\")\n",
    "#     for key,value in m3c2_params_dic.items():\n",
    "#         f.write(\"%s=%s\\n\"%(key,value))"
   ]
  },
  {
   "cell_type": "markdown",
   "metadata": {},
   "source": [
    "### Constraining the cloud to a certain area\n"
   ]
  },
  {
   "cell_type": "code",
   "execution_count": null,
   "metadata": {},
   "outputs": [],
   "source": [
    "#? data for the strap\n",
    "# Global center of the cloud\n",
    "X_glob =  503455.626160\n",
    "Y_glob =  4918094.496948\n",
    "Z_glob =  720.263306\n",
    "# dimmensions\n",
    "X_delta = 100\n",
    "Y_delta = 100\n",
    "Z_delta = 100\n",
    "# X: 683.566\n",
    "# Y: 522.363\n",
    "# Z: 345.093\n",
    "#                       c:\\Users\\szinp\\Desktop\\GIS_PROJECT\\CloudComPy39_20220513\\CloudCompPy_Computing-CloudPoint/constrained_cloud.txt...\n",
    "path_to_output_cloud_1= r\"C:\\Users\\szinp\\Desktop\\GIS_PROJECT\\CloudComPy39_20220513\\CloudCompPy_Computing-CloudPoint\\dataFolder\\pythonScripts_testInputs\\output_cloud_1.txt\"\n",
    "path_to_output_cloud_2= r\"C:\\Users\\szinp\\Desktop\\GIS_PROJECT\\CloudComPy39_20220513\\CloudCompPy_Computing-CloudPoint\\dataFolder\\pythonScripts_testInputs\\output_cloud_2.txt\"\n"
   ]
  },
  {
   "cell_type": "markdown",
   "metadata": {},
   "source": [
    "### Specifying the cloud size/ box size"
   ]
  },
  {
   "cell_type": "code",
   "execution_count": null,
   "metadata": {},
   "outputs": [],
   "source": [
    "\n",
    "bounding_box_list=[X_glob - X_delta, X_glob + X_delta, Y_glob - Y_delta, Y_glob + Y_delta, Z_glob - Z_delta, Z_glob + Z_delta]\n"
   ]
  },
  {
   "cell_type": "markdown",
   "metadata": {},
   "source": [
    "### Creating clouds with specified size"
   ]
  },
  {
   "cell_type": "code",
   "execution_count": null,
   "metadata": {},
   "outputs": [],
   "source": [
    "path_to_constrained_1 = ComputeClouds.constrainCloud(path_to_cloud=path_to_file_original_1, bounding_box_list=bounding_box_list, path_to_output_cloud=path_to_output_cloud_1)\n",
    "path_to_constrained_2 = ComputeClouds.constrainCloud(path_to_cloud=path_to_file_original_2, bounding_box_list=bounding_box_list, path_to_output_cloud=path_to_output_cloud_2)\n",
    "# path_to_constrained_1 = ComputeClouds.constrainCloud(path_to_cloud=path_to_file_original_1, bounding_box_list=bounding_box_list, path_to_output_cloud=path_to_output_cloud)\n"
   ]
  },
  {
   "cell_type": "markdown",
   "metadata": {},
   "source": [
    "### Looping over the parameters"
   ]
  },
  {
   "cell_type": "code",
   "execution_count": null,
   "metadata": {},
   "outputs": [],
   "source": [
    "# with open(\"./log_timing.log\", 'a') as f:\n",
    "# with open(\"./log_timing.log\", 'w') as f:\n",
    "#     f.write(\"[Parameters]\\t[BoxSize]\\t[Time]\\n\")\n",
    "\n",
    "\n",
    "m3c2_params_dic={}\n",
    "m3c2_params_dic[\"M3C2VER\"]= 1\n",
    "m3c2_params_dic[\"NormalMode\"]= 0\n",
    "m3c2_params_dic[\"NormalScale\"]= 10.691401\n",
    "m3c2_params_dic[\"NormalMinScale\"]= 5.3457\n",
    "m3c2_params_dic[\"NormalStep\"]= 5.3457\n",
    "m3c2_params_dic[\"NormalMaxScale\"]= 21.382801\n",
    "m3c2_params_dic[\"SearchScale\"]= 5.3457\n",
    "m3c2_params_dic[\"SearchDepth\"]= 41.898286\n",
    "m3c2_params_dic[\"SubsampleRadius\"]= 2.67285\n",
    "m3c2_params_dic[\"NormalPreferedOri\"]= 4\n",
    "m3c2_params_dic[\"NormalUseCorePoints\"]= \"true\"\n",
    "m3c2_params_dic[\"SubsampleEnabled\"]= \"false\"\n",
    "m3c2_params_dic[\"RegistrationError\"]= 0\n",
    "m3c2_params_dic[\"RegistrationErrorEnabled\"]= \"false\"\n",
    "m3c2_params_dic[\"UseSinglePass4Depth\"]= \"false\"\n",
    "m3c2_params_dic[\"PositiveSearchOnly\"]= \"false\"\n",
    "m3c2_params_dic[\"UseMedian\"]= \"false\"\n",
    "m3c2_params_dic[\"UseMinPoints4Stat\"]= \"false\"\n",
    "m3c2_params_dic[\"MinPoints4Stat\"]= 5\n",
    "m3c2_params_dic[\"ProjDestIndex\"]= 1\n",
    "m3c2_params_dic[\"UseOriginalCloud\"]= \"false\"\n",
    "m3c2_params_dic[\"ExportStdDevInfo\"]= \"true\"\n",
    "m3c2_params_dic[\"ExportDensityAtProjScale\"]= \"true\"\n",
    "m3c2_params_dic[\"MaxThreadCount\"]= 4\n",
    "m3c2_params_dic[\"UsePrecisionMaps\"]= \"false\"\n",
    "m3c2_params_dic[\"PM1Scale\"]= 1\n",
    "m3c2_params_dic[\"PM2Scale\"]= 1\n",
    "ComputeClouds.overwrite_parameters(path_to_params_file, m3c2_params_dic)"
   ]
  },
  {
   "cell_type": "markdown",
   "metadata": {},
   "source": [
    "### Calculating M3C2"
   ]
  },
  {
   "cell_type": "markdown",
   "metadata": {},
   "source": [
    "```\n",
    "TODO:\n",
    "- created a bounding box for the cloud\n",
    "- logging for checking the performance\n",
    "- created m3c2 outputs for iterating parameters\n",
    "- repeated for moving the boudnign box (to see if performance/output changes)\n",
    "```"
   ]
  },
  {
   "cell_type": "code",
   "execution_count": null,
   "metadata": {},
   "outputs": [],
   "source": [
    "bounding_box_list_volume = (bounding_box_list[1] - bounding_box_list[0]) * (bounding_box_list[3] - bounding_box_list[2]) * (bounding_box_list[5] - bounding_box_list[4])\n"
   ]
  },
  {
   "cell_type": "code",
   "execution_count": null,
   "metadata": {},
   "outputs": [],
   "source": [
    "# my_file = open(\"this_is_file.txt\",\"w+\")\n",
    "# my_file.write(\"Hello World\")\n",
    "# my_file.close()\n",
    "path_for_logging = os.path.abspath(\".\")\n",
    "path_for_logging_folder = path_for_logging + \"\\dataFolder\\parametersTests\"\n",
    "\n",
    "if not os.path.exists(path_for_logging_folder):\n",
    "    os.makedirs(path_for_logging_folder)\n",
    "for x in range(0,3):\n",
    "    path_for_logging = path_for_logging_folder + \"\\log_timing_\" + str(x+1) + \".log\"\n",
    "    with open(path_for_logging, \"w+\") as f:\n",
    "        list_of_changed_params = []\n",
    "        f.write(\"[Parameters]\\t[BoxSize]\\t[Time]\\n\")\n",
    "        \n",
    "        m3c2_params_dic[\"NormalScale\"]= 10.691401\n",
    "        m3c2_params_dic[\"NormalMinScale\"]= 5.3457\n",
    "        m3c2_params_dic[\"NormalStep\"]= 5.3457\n",
    "        m3c2_params_dic[\"NormalMaxScale\"]= 21.382801\n",
    "        m3c2_params_dic[\"SearchScale\"]= 5.3457\n",
    "        m3c2_params_dic[\"SearchDepth\"]= 41.898286\n",
    "        m3c2_params_dic[\"SubsampleRadius\"]= 2.67285\n",
    "\n",
    "        # dimmensions\n",
    "        # Once variant for checking if the box size matter\n",
    "        if x == 3:\n",
    "            X_glob =  503455.6 + x*25\n",
    "            Y_glob =  4918094.4 - x*25\n",
    "            Z_glob =  720.2 - x*25\n",
    "            X_delta = 100+75\n",
    "            Y_delta = 100+75\n",
    "            Z_delta = 100+75\n",
    "        else:\n",
    "            X_glob =  503455.6 + x*25\n",
    "            Y_glob =  4918094.4 - x*25\n",
    "            Z_glob =  720.2 - x*25\n",
    "            X_delta = 100\n",
    "            Y_delta = 100\n",
    "            Z_delta = 100\n",
    "\n",
    "        bounding_box_list=[X_glob - X_delta, X_glob + X_delta, Y_glob - Y_delta, Y_glob + Y_delta, Z_glob - Z_delta, Z_glob + Z_delta]\n",
    "\n",
    "        for iteration in range(1, 51):\n",
    "            # * parameters to be changed\n",
    "            # * rest of them are declared earlier\n",
    "            nameOfFileOutput = (\n",
    "                \"dataFolder/parametersTests/output_\" +  str(x+1) + \"_\"+ str(iteration) + \".las\"\n",
    "            )\n",
    "            m3c2_params_dic[\"NormalScale\"] += 1\n",
    "            m3c2_params_dic[\"NormalMinScale\"] += 1\n",
    "            m3c2_params_dic[\"NormalStep\"] += 1\n",
    "            m3c2_params_dic[\"NormalMaxScale\"] += 1\n",
    "            m3c2_params_dic[\"SearchScale\"] += 1\n",
    "            # m3c2_params_dic[\"SearchDepth\"] += 1\n",
    "            m3c2_params_dic[\"SubsampleRadius\"] += 1\n",
    "            list_of_changed_params = [\n",
    "                m3c2_params_dic[\"NormalScale\"],\n",
    "                m3c2_params_dic[\"NormalMinScale\"],\n",
    "                m3c2_params_dic[\"NormalStep\"],\n",
    "                m3c2_params_dic[\"NormalMaxScale\"],\n",
    "                m3c2_params_dic[\"SearchScale\"],\n",
    "                m3c2_params_dic[\"SearchDepth\"],\n",
    "                m3c2_params_dic[\"SubsampleRadius\"],\n",
    "            ]\n",
    "\n",
    "            # * create new parameters file\n",
    "            ComputeClouds.overwrite_parameters(\n",
    "                path_to_params_file, m3c2_params_dic\n",
    "            )\n",
    "            # * run M3C2\n",
    "            time_startM3C2 = ComputeClouds.perf_counter()\n",
    "            ComputeClouds.calcM3C2(\n",
    "                firstCd=path_to_constrained_1,\n",
    "                secondCd=path_to_constrained_2,\n",
    "                parametersConfigFilePath=path_to_params_file,\n",
    "                nameOfFileOutput=nameOfFileOutput, verbose=False\n",
    "            )\n",
    "            time_endM3C2 = ComputeClouds.perf_counter() - time_startM3C2\n",
    "            f.write(\n",
    "                f\"{list_of_changed_params}\\t{bounding_box_list_volume}\\t{time_endM3C2}\\n\"\n",
    "            )\n",
    "\n",
    "        print(\"Done\")\n"
   ]
  },
  {
   "cell_type": "code",
   "execution_count": null,
   "metadata": {},
   "outputs": [],
   "source": []
  }
 ],
 "metadata": {
  "kernelspec": {
   "display_name": "Python 3.9.7 ('CloudComPy39')",
   "language": "python",
   "name": "python3"
  },
  "language_info": {
   "codemirror_mode": {
    "name": "ipython",
    "version": 3
   },
   "file_extension": ".py",
   "mimetype": "text/x-python",
   "name": "python",
   "nbconvert_exporter": "python",
   "pygments_lexer": "ipython3",
   "version": "3.9.7"
  },
  "orig_nbformat": 4,
  "vscode": {
   "interpreter": {
    "hash": "b6edfd18c23f1977573ae167478fba97ce460a232ec94f55e6f77f6fa0ebec54"
   }
  }
 },
 "nbformat": 4,
 "nbformat_minor": 2
}
