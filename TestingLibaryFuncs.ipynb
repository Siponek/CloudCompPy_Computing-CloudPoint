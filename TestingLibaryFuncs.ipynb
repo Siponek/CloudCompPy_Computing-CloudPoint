{
 "cells": [
  {
   "cell_type": "markdown",
   "metadata": {},
   "source": [
    "Libs"
   ]
  },
  {
   "cell_type": "code",
   "execution_count": 1,
   "metadata": {},
   "outputs": [
    {
     "name": "stdout",
     "output_type": "stream",
     "text": [
      "ComputeClouds_> Main : Libs loaded\n"
     ]
    }
   ],
   "source": [
    "from computeclouds import ComputeClouds\n",
    "from datetime import datetime\n",
    "from os import path"
   ]
  },
  {
   "cell_type": "code",
   "execution_count": 2,
   "metadata": {},
   "outputs": [
    {
     "name": "stdout",
     "output_type": "stream",
     "text": [
      "Paths are correct 2022-07-12 16:44:32.597371\n"
     ]
    }
   ],
   "source": [
    "path_to_file_original_1 = r\"C:\\Users\\szinp\\Desktop\\GIS_PROJECT\\CloudComPy39_20220513\\CloudCompPy_Computing-CloudPoint\\dataFolder\\pythonScripts_testInputs\\1_E_subsample.txt\"\n",
    "path_to_file_original_2 = r\"C:\\Users\\szinp\\Desktop\\GIS_PROJECT\\CloudComPy39_20220513\\CloudCompPy_Computing-CloudPoint\\dataFolder\\pythonScripts_testInputs\\2_E_subsample.txt\"\n",
    "\n",
    "path_to_params_file = r\"C:\\Users\\szinp\\Desktop\\GIS_PROJECT\\CloudComPy39_20220513\\CloudCompPy_Computing-CloudPoint\\dataFolder\\PythonParameters\\m3c2_params.txt\"\n",
    "\n",
    "assert path.isfile(path_to_file_original_1), \"File does not exist\"\n",
    "assert path.isfile(path_to_file_original_2), \"File does not exist\"\n",
    "assert path.isfile(path_to_params_file), \"File does not exist\"\n",
    "print(\"Paths are correct\", datetime.now() )\n",
    "\n"
   ]
  },
  {
   "cell_type": "markdown",
   "metadata": {},
   "source": [
    "### Parameters to change"
   ]
  },
  {
   "cell_type": "code",
   "execution_count": 3,
   "metadata": {},
   "outputs": [],
   "source": [
    "m3c2_params_dic={}\n",
    "\n",
    "m3c2_params_dic[\"M3C2VER\"]= 1\n",
    "m3c2_params_dic[\"NormalMode\"]= 0\n",
    "m3c2_params_dic[\"NormalScale\"]= 10.691401\n",
    "m3c2_params_dic[\"NormalMinScale\"]= 5.3457\n",
    "m3c2_params_dic[\"NormalStep\"]= 5.3457\n",
    "m3c2_params_dic[\"NormalMaxScale\"]= 21.382801\n",
    "m3c2_params_dic[\"SearchScale\"]= 5.3457\n",
    "m3c2_params_dic[\"SearchDepth\"]= 41.898286\n",
    "m3c2_params_dic[\"SubsampleRadius\"]= 2.67285\n",
    "m3c2_params_dic[\"NormalPreferedOri\"]= 4\n",
    "m3c2_params_dic[\"NormalUseCorePoints\"]= \"true\"\n",
    "m3c2_params_dic[\"SubsampleEnabled\"]= \"false\"\n",
    "m3c2_params_dic[\"RegistrationError\"]= 0\n",
    "m3c2_params_dic[\"RegistrationErrorEnabled\"]= \"false\"\n",
    "m3c2_params_dic[\"UseSinglePass4Depth\"]= \"false\"\n",
    "m3c2_params_dic[\"PositiveSearchOnly\"]= \"false\"\n",
    "m3c2_params_dic[\"UseMedian\"]= \"false\"\n",
    "m3c2_params_dic[\"UseMinPoints4Stat\"]= \"false\"\n",
    "m3c2_params_dic[\"MinPoints4Stat\"]= 5\n",
    "m3c2_params_dic[\"ProjDestIndex\"]= 1\n",
    "m3c2_params_dic[\"UseOriginalCloud\"]= \"false\"\n",
    "m3c2_params_dic[\"ExportStdDevInfo\"]= \"true\"\n",
    "m3c2_params_dic[\"ExportDensityAtProjScale\"]= \"true\"\n",
    "m3c2_params_dic[\"MaxThreadCount\"]= 4\n",
    "m3c2_params_dic[\"UsePrecisionMaps\"]= \"false\"\n",
    "m3c2_params_dic[\"PM1Scale\"]= 1\n",
    "m3c2_params_dic[\"PM2Scale\"]= 1"
   ]
  },
  {
   "cell_type": "code",
   "execution_count": 4,
   "metadata": {},
   "outputs": [],
   "source": [
    "# print(f\"Writing parameters to {path_to_params_file}\")\n",
    "\n",
    "# with open(path_to_params_file, 'w') as f:\n",
    "#     f.write(\"[General]\\n\")\n",
    "#     for key,value in m3c2_params_dic.items():\n",
    "#         f.write(\"%s=%s\\n\"%(key,value))"
   ]
  },
  {
   "cell_type": "markdown",
   "metadata": {},
   "source": [
    "### Constraining the cloud to a certain area\n"
   ]
  },
  {
   "cell_type": "code",
   "execution_count": 5,
   "metadata": {},
   "outputs": [
    {
     "name": "stdout",
     "output_type": "stream",
     "text": [
      "Constraining cloud C:\\Users\\szinp\\Desktop\\GIS_PROJECT\\CloudComPy39_20220513\\CloudCompPy_Computing-CloudPoint\\dataFolder\\pythonScripts_testInputs\\1_E_subsample.txt\n",
      "Output cloud C:\\Users\\szinp\\Desktop\\GIS_PROJECT\\CloudComPy39_20220513\\CloudCompPy_Computing-CloudPoint\\dataFolder\\pythonScripts_testInputs\\output_cloud_1.txt\n",
      "Data loaded\n",
      "Data1:  447889\n",
      "data1_list:  447889\n",
      "data1_list:  [[503792.40095331793, 4917928.525988229, 602.2913529011637], [503786.1017533179, 4917921.408888229, 605.1246529011637], [503791.3505533179, 4917929.3741882285, 602.8453529011637], [503793.8689533179, 4917919.778888228, 598.8158529011637], [503793.1774533179, 4917925.398988228, 600.9728529011637], [503792.5254533179, 4917930.179488229, 602.5572529011637], [503788.5767533179, 4917913.669788228, 600.6220529011637], [503782.52235331794, 4917909.481388229, 604.4358529011637], [503773.1850533179, 4917900.129888229, 604.3968529011637], [503754.2618533179, 4917893.628288229, 606.0550529011637]]\n",
      "File read and converted in: 2.822641899999997\n",
      "Filtering\n"
     ]
    },
    {
     "name": "stderr",
     "output_type": "stream",
     "text": [
      " 50%|\u001b[35m████▉     \u001b[0m| 222807/447889 [00:00<00:00, 352246.01it/s]\n"
     ]
    },
    {
     "name": "stdout",
     "output_type": "stream",
     "text": [
      "Filtering done\n",
      "Filtered_data1_list len:  222807\n",
      "Filtering done in:  0.6490802000000002\n",
      "Saving filtered data to C:\\Users\\szinp\\Desktop\\GIS_PROJECT\\CloudComPy39_20220513\\CloudCompPy_Computing-CloudPoint\\dataFolder\\pythonScripts_testInputs\\output_cloud_1.txt...\n",
      "Done saving filtered data\n",
      "Constraining cloud C:\\Users\\szinp\\Desktop\\GIS_PROJECT\\CloudComPy39_20220513\\CloudCompPy_Computing-CloudPoint\\dataFolder\\pythonScripts_testInputs\\2_E_subsample.txt\n",
      "Output cloud C:\\Users\\szinp\\Desktop\\GIS_PROJECT\\CloudComPy39_20220513\\CloudCompPy_Computing-CloudPoint\\dataFolder\\pythonScripts_testInputs\\output_cloud_2.txt\n",
      "Data loaded\n",
      "Data1:  486263\n",
      "data1_list:  486263\n",
      "data1_list:  [[503670.2579550139, 4917891.755455581, 635.2028911029503], [503670.38585501385, 4917891.26005558, 635.2327911029503], [503663.43265501386, 4917898.70405558, 640.9345911029503], [503674.06385501387, 4917885.90365558, 632.4275911029503], [503662.6889550139, 4917898.09295558, 641.5157911029503], [503673.98845501384, 4917885.09215558, 632.4240911029503], [503673.95465501386, 4917884.38635558, 632.4201911029503], [503662.4757550139, 4917896.77515558, 641.2200911029503], [503662.99975501385, 4917896.06625558, 641.1686911029503], [503658.2088550139, 4917900.63565558, 644.8958911029503]]\n",
      "File read and converted in: 3.7145826999999976\n",
      "Filtering\n"
     ]
    },
    {
     "name": "stderr",
     "output_type": "stream",
     "text": [
      " 50%|\u001b[35m█████     \u001b[0m| 244801/486263 [00:00<00:00, 272370.73it/s]\n"
     ]
    },
    {
     "name": "stdout",
     "output_type": "stream",
     "text": [
      "Filtering done\n",
      "Filtered_data1_list len:  244801\n",
      "Filtering done in:  0.901626499999999\n",
      "Saving filtered data to C:\\Users\\szinp\\Desktop\\GIS_PROJECT\\CloudComPy39_20220513\\CloudCompPy_Computing-CloudPoint\\dataFolder\\pythonScripts_testInputs\\output_cloud_2.txt...\n",
      "Done saving filtered data\n"
     ]
    }
   ],
   "source": [
    "#? data for the strap\n",
    "# Global center of the cloud\n",
    "X_glob =  503455.626160\n",
    "Y_glob =  4918094.496948\n",
    "Z_glob =  720.263306\n",
    "# dimmensions\n",
    "X_delta = 100\n",
    "Y_delta = 100\n",
    "Z_delta = 100\n",
    "# X: 683.566\n",
    "# Y: 522.363\n",
    "# Z: 345.093\n",
    "#                       c:\\Users\\szinp\\Desktop\\GIS_PROJECT\\CloudComPy39_20220513\\CloudCompPy_Computing-CloudPoint/constrained_cloud.txt...\n",
    "path_to_output_cloud_1= r\"C:\\Users\\szinp\\Desktop\\GIS_PROJECT\\CloudComPy39_20220513\\CloudCompPy_Computing-CloudPoint\\dataFolder\\pythonScripts_testInputs\\output_cloud_1.txt\"\n",
    "path_to_output_cloud_2= r\"C:\\Users\\szinp\\Desktop\\GIS_PROJECT\\CloudComPy39_20220513\\CloudCompPy_Computing-CloudPoint\\dataFolder\\pythonScripts_testInputs\\output_cloud_2.txt\"\n",
    "bounding_box_list=[X_glob - X_delta, X_glob + X_delta, Y_glob - Y_delta, Y_glob + Y_delta, Z_glob - Z_delta, Z_glob + Z_delta]\n",
    "path_to_constrained_1 = ComputeClouds.constrainCloud(path_to_cloud=path_to_file_original_1, bounding_box_list=bounding_box_list, path_to_output_cloud=path_to_output_cloud_1)\n",
    "path_to_constrained_2 = ComputeClouds.constrainCloud(path_to_cloud=path_to_file_original_2, bounding_box_list=bounding_box_list, path_to_output_cloud=path_to_output_cloud_2)\n",
    "# path_to_constrained_1 = ComputeClouds.constrainCloud(path_to_cloud=path_to_file_original_1, bounding_box_list=bounding_box_list, path_to_output_cloud=path_to_output_cloud)\n"
   ]
  },
  {
   "cell_type": "markdown",
   "metadata": {},
   "source": [
    "### TODO #1:"
   ]
  },
  {
   "cell_type": "code",
   "execution_count": 7,
   "metadata": {},
   "outputs": [
    {
     "name": "stdout",
     "output_type": "stream",
     "text": [
      "\u001b[93m parametersConfigFilePath _>\u001b[00m\n",
      "\u001b[93m C:\\Users\\szinp\\Desktop\\GIS_PROJECT\\CloudComPy39_20220513\\CloudCompPy_Computing-CloudPoint\\dataFolder\\PythonParameters\\m3c2_params.txt\u001b[00m\n",
      "\u001b[92m Paths are correct\u001b[00m\n",
      "\u001b[96m Loading clouds into CloudComPy...\u001b[00m\n",
      "\u001b[92m Loading finished\u001b[00m\n",
      "\u001b[93m Reading params from C:\\Users\\szinp\\Desktop\\GIS_PROJECT\\CloudComPy39_20220513\\CloudCompPy_Computing-CloudPoint\\dataFolder\\PythonParameters\\m3c2_params.txt\u001b[00m\n",
      "\u001b[96m Searching for M3C2 plugin in enviroment...\u001b[00m\n",
      "\u001b[92m M3C2 plugin is loaded, attempting to run M3C2\u001b[00m\n",
      "\u001b[92m M3C2 plugin work finished\u001b[00m\n",
      "\u001b[95m M3C2 time: 17.81\u001b[00m\n",
      "Saving results to c:\\Users\\szinp\\Desktop\\GIS_PROJECT\\CloudComPy39_20220513\\CloudCompPy_Computing-CloudPoint/output_cloud_1_2_M3C2.las\n",
      "\u001b[92m Job finished\u001b[00m\n",
      "\u001b[95m Total time: 21.30\u001b[00m\n"
     ]
    }
   ],
   "source": [
    "ComputeClouds.calcM3C2(firstCd=path_to_constrained_1, secondCd=path_to_constrained_2, parametersConfigFilePath=path_to_params_file, verbose=True, nameOfFileOutput=\"output_cloud_1_2_M3C2.las\")"
   ]
  }
 ],
 "metadata": {
  "kernelspec": {
   "display_name": "Python 3.9.7 ('CloudComPy39')",
   "language": "python",
   "name": "python3"
  },
  "language_info": {
   "codemirror_mode": {
    "name": "ipython",
    "version": 3
   },
   "file_extension": ".py",
   "mimetype": "text/x-python",
   "name": "python",
   "nbconvert_exporter": "python",
   "pygments_lexer": "ipython3",
   "version": "3.9.7"
  },
  "orig_nbformat": 4,
  "vscode": {
   "interpreter": {
    "hash": "b6edfd18c23f1977573ae167478fba97ce460a232ec94f55e6f77f6fa0ebec54"
   }
  }
 },
 "nbformat": 4,
 "nbformat_minor": 2
}
